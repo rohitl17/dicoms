{
 "cells": [
  {
   "cell_type": "code",
   "execution_count": null,
   "metadata": {},
   "outputs": [],
   "source": [
    "import pydicom, cv2\n",
    "import numpy as np\n",
    "import matplotlib.pyplot as plt\n",
    "\n",
    "from pydicom.uid import ImplicitVRLittleEndian\n",
    "from pydicom.dataset import Dataset, FileDataset\n",
    "import cv2\n",
    "import datetime"
   ]
  },
  {
   "cell_type": "code",
   "execution_count": null,
   "metadata": {},
   "outputs": [],
   "source": [
    "dcm=pydicom.read_file('./2_22889_60863_947369_3test.dcm')"
   ]
  },
  {
   "cell_type": "code",
   "execution_count": null,
   "metadata": {},
   "outputs": [],
   "source": [
    "image=np.load('./dicom_00000061_006_effusion_heat_map.npy')"
   ]
  },
  {
   "cell_type": "code",
   "execution_count": null,
   "metadata": {},
   "outputs": [],
   "source": [
    "image=image[:,:,0]"
   ]
  },
  {
   "cell_type": "code",
   "execution_count": null,
   "metadata": {},
   "outputs": [],
   "source": [
    "image.shape"
   ]
  },
  {
   "cell_type": "code",
   "execution_count": null,
   "metadata": {},
   "outputs": [],
   "source": [
    "image=dcm.pixel_array"
   ]
  },
  {
   "cell_type": "code",
   "execution_count": null,
   "metadata": {},
   "outputs": [],
   "source": [
    "plt.imshow(image)"
   ]
  },
  {
   "cell_type": "code",
   "execution_count": null,
   "metadata": {},
   "outputs": [],
   "source": [
    "image=cv2.imread('./padchest_0008529.png')"
   ]
  },
  {
   "cell_type": "code",
   "execution_count": null,
   "metadata": {},
   "outputs": [],
   "source": [
    "image=np.zeros((512,512,3), dtype='uint8')\n",
    "# image=image*255"
   ]
  },
  {
   "cell_type": "code",
   "execution_count": null,
   "metadata": {},
   "outputs": [],
   "source": [
    "# image=cv2.rectangle(image,(0,0),(100,100),(0,255,255),-1)\n",
    "# image=cv2.rectangle(image,(100,100),(200,200),(0,0,255),-1)\n",
    "image=cv2.rectangle(image,(200,200),(300,300),(255,255,255),-1)\n",
    "# image=cv2.rectangle(image,(300,300),(400,400),(255,0,255),-1)\n",
    "# image=cv2.rectangle(image,(400,400),(500,500),(0,255,0),-1)\n",
    "\n",
    "plt.imshow(image)"
   ]
  },
  {
   "cell_type": "code",
   "execution_count": null,
   "metadata": {},
   "outputs": [],
   "source": [
    "file_meta = Dataset()\n",
    "file_meta.TransferSyntaxUID = ImplicitVRLittleEndian\n",
    "file_meta.MediaStorageSOPClassUID = '1.1.2.'\n",
    "file_meta.MediaStorageSOPInstanceUID = '1.2.3'\n",
    "file_meta.ImplementationClassUID = '1.2.3.4'\n",
    "\n",
    "# Create the dataset\n",
    "ds = FileDataset(\"rohit.dcm\", {}, file_meta=file_meta, preamble=b'\\x00'*128)\n",
    "\n",
    "# Add some of the data elements\n",
    "ds.PatientName = \"LM10\"\n",
    "ds.PatientID = \"123456\"\n",
    "\n",
    "# Set the transfer syntax\n",
    "ds.is_little_endian = True\n",
    "ds.is_implicit_VR = True\n",
    "\n",
    "arr = image\n",
    "\n",
    "# (8-bit pixels, black and white)\n",
    "ds.Rows, ds.Columns, dummy = arr.shape\n",
    "ds.PhotometricInterpretation = \"RGB\"\n",
    "ds.SamplesPerPixel = 3\n",
    "ds.BitsStored = 8\n",
    "ds.BitsAllocated = 8\n",
    "ds.HighBit = 7\n",
    "ds.PixelRepresentation = 0\n",
    "ds.add_new(0x00280006, 'US', 0)\n",
    "\n",
    "\n",
    "# Reassign back to the image data\n",
    "ds.PixelData = arr.tobytes()\n",
    "ds.fix_meta_info()\n",
    "\n",
    "# Save DICOM\n",
    "ds.save_as(\"rohit.dcm\")"
   ]
  },
  {
   "cell_type": "code",
   "execution_count": null,
   "metadata": {},
   "outputs": [],
   "source": [
    "image=cv2.resize(image, (512,512))"
   ]
  },
  {
   "cell_type": "code",
   "execution_count": null,
   "metadata": {},
   "outputs": [],
   "source": [
    "plt.imshow(image)"
   ]
  },
  {
   "cell_type": "code",
   "execution_count": null,
   "metadata": {},
   "outputs": [],
   "source": [
    "from pydicom.uid import ImplicitVRLittleEndian\n",
    "from pydicom.dataset import Dataset, FileDataset\n",
    "import cv2\n",
    "import datetime\n",
    "\n",
    "# Create the metadata for the dataset\n",
    "file_meta = Dataset()\n",
    "file_meta.TransferSyntaxUID = ImplicitVRLittleEndian\n",
    "file_meta.MediaStorageSOPClassUID = '1.2.840.10008.5.1.4.1.1.2'\n",
    "file_meta.MediaStorageSOPInstanceUID = '1.2.3'\n",
    "file_meta.ImplementationClassUID = '1.2.3.4'\n",
    "\n",
    "# Create the dataset\n",
    "ds = FileDataset(\"Test4.dcm\", {}, file_meta=file_meta, preamble=b'\\x00'*128)\n",
    "\n",
    "# Add some of the data elements\n",
    "ds.PatientName = \"Dicom^Anony\"\n",
    "ds.PatientID = \"123456\"\n",
    "\n",
    "# Set the transfer syntax\n",
    "ds.is_little_endian = True\n",
    "ds.is_implicit_VR = True\n",
    "\n",
    "# Set creation date/time\n",
    "dt = datetime.datetime.now()\n",
    "ds.ContentDate = dt.strftime('%Y%m%d')\n",
    "timeStr = dt.strftime('%H%M%S.%f')  # long format with micro seconds\n",
    "ds.ContentTime = timeStr\n",
    "\n",
    "# Read in the JPG file\n",
    "# img = cv2.imread(\"padchest_0008529.png\");\n",
    "\n",
    "# Get the numpy array\n",
    "arr = image\n",
    "\n",
    "# (8-bit pixels, black and white)\n",
    "ds.Rows, ds.Columns = arr.shape\n",
    "ds.PhotometricInterpretation = \"Monochrome\"\n",
    "ds.SamplesPerPixel = 1\n",
    "ds.BitsStored = 8\n",
    "ds.BitsAllocated = 8\n",
    "ds.HighBit = 7\n",
    "ds.PixelRepresentation = 0\n",
    "ds.add_new(0x00280006, 'US', 0)\n",
    "\n",
    "\n",
    "# Reassign back to the image data\n",
    "ds.PixelData = arr.tobytes()\n",
    "\n",
    "# Save DICOM\n",
    "ds.save_as(\"Test_ct_only_heatmap_1channel.dcm\")"
   ]
  },
  {
   "cell_type": "code",
   "execution_count": null,
   "metadata": {},
   "outputs": [],
   "source": [
    "dcm=pydicom.read_file(\"Test_ct_only_heatmap_1channel.dcm\")"
   ]
  },
  {
   "cell_type": "code",
   "execution_count": null,
   "metadata": {},
   "outputs": [],
   "source": [
    "dcm"
   ]
  },
  {
   "cell_type": "code",
   "execution_count": null,
   "metadata": {},
   "outputs": [],
   "source": [
    "import matplotlib.pyplot as plt\n",
    "plt.imshow(dcm.pixel_array)"
   ]
  },
  {
   "cell_type": "code",
   "execution_count": null,
   "metadata": {},
   "outputs": [],
   "source": [
    "np.min(image)"
   ]
  },
  {
   "cell_type": "code",
   "execution_count": null,
   "metadata": {},
   "outputs": [],
   "source": [
    "import os\n",
    "os.system('gdcmconv --jpegls {0} {1}'.format('Test_ct_only_heatmap_1channel.dcm', 'compressed_Test_ct_only_heatmap_1channel.dcm'))"
   ]
  },
  {
   "cell_type": "code",
   "execution_count": null,
   "metadata": {},
   "outputs": [],
   "source": [
    "! gdcmconv"
   ]
  },
  {
   "cell_type": "code",
   "execution_count": null,
   "metadata": {},
   "outputs": [],
   "source": [
    "! gdcmconv --jpegls ./Test_new.dcm compressed_Test_lflds.dcm"
   ]
  },
  {
   "cell_type": "code",
   "execution_count": null,
   "metadata": {},
   "outputs": [],
   "source": [
    "os.system('gdcmconv --lossy -q 95,95,95 --j2k {0} {1}'.format('./Test4.dcm', 'rohit_compressed_new.dcm'))"
   ]
  },
  {
   "cell_type": "code",
   "execution_count": null,
   "metadata": {},
   "outputs": [],
   "source": [
    "os.system('gdcmconv --raw --verbose {0} {1}'.format('./compressed_dicom/compressed_Test.dcm','./decompressed_Test.dcm'))"
   ]
  },
  {
   "cell_type": "code",
   "execution_count": null,
   "metadata": {},
   "outputs": [],
   "source": [
    "dcm=pydicom.read_file('/opt/bucketdata/Users/Rohit/3D_CT_Model/test_heatmaps/only_heatmaps/positive/uncompressed/500.dcm')\n",
    "plt.imshow(dcm.pixel_array)"
   ]
  },
  {
   "cell_type": "code",
   "execution_count": null,
   "metadata": {},
   "outputs": [],
   "source": [
    "\n",
    "\n",
    "# Create the metadata for the dataset\n",
    "file_meta = Dataset()\n",
    "file_meta.TransferSyntaxUID = ImplicitVRLittleEndian\n",
    "file_meta.MediaStorageSOPClassUID = '1.2.840.10008.5.1.4.1.1.2'\n",
    "file_meta.MediaStorageSOPInstanceUID = '1.2.3'\n",
    "file_meta.ImplementationClassUID = '1.2.3.4'\n",
    "\n",
    "# Create the dataset\n",
    "ds = FileDataset(\"Test4.dcm\", {}, file_meta=file_meta, preamble=b'\\x00'*128)\n",
    "\n",
    "# Add some of the data elements\n",
    "ds.PatientName = \"Dicom^Anony\"\n",
    "ds.PatientID = \"123456\"\n",
    "\n",
    "# Set the transfer syntax\n",
    "ds.is_little_endian = True\n",
    "ds.is_implicit_VR = True\n",
    "\n",
    "# Set creation date/time\n",
    "# dt = datetime.datetime.now()\n",
    "# ds.ContentDate = dt.strftime('%Y%m%d')\n",
    "# timeStr = dt.strftime('%H%M%S.%f')  # long format with micro seconds\n",
    "# ds.ContentTime = timeStr\n",
    "\n",
    "# Read in the JPG file\n",
    "# img = cv2.imread(\"TestImage.jpg\");\n",
    "\n",
    "# Get the numpy array\n",
    "arr = image\n",
    "\n",
    "# (8-bit pixels, black and white)\n",
    "ds.Rows, ds.Columns, dummy = arr.shape\n",
    "ds.PhotometricInterpretation = \"RGB\"\n",
    "ds.SamplesPerPixel = 3\n",
    "ds.BitsStored = 8\n",
    "ds.BitsAllocated = 8\n",
    "ds.HighBit = 7\n",
    "ds.PixelRepresentation = 0\n",
    "ds.add_new(0x00280006, 'US', 0)\n",
    "\n",
    "\n",
    "# Reassign back to the image data\n",
    "ds.PixelData = arr.tobytes()\n",
    "ds.fix_meta_info()\n",
    "\n",
    "# Save DICOM\n",
    "ds.save_as(\"Test4.dcm\")"
   ]
  },
  {
   "cell_type": "code",
   "execution_count": null,
   "metadata": {},
   "outputs": [],
   "source": []
  }
 ],
 "metadata": {
  "kernelspec": {
   "display_name": "Python 3",
   "language": "python",
   "name": "python3"
  },
  "language_info": {
   "codemirror_mode": {
    "name": "ipython",
    "version": 3
   },
   "file_extension": ".py",
   "mimetype": "text/x-python",
   "name": "python",
   "nbconvert_exporter": "python",
   "pygments_lexer": "ipython3",
   "version": "3.8.8"
  }
 },
 "nbformat": 4,
 "nbformat_minor": 4
}
