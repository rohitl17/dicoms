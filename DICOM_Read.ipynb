{
 "cells": [
  {
   "cell_type": "code",
   "execution_count": 1,
   "metadata": {},
   "outputs": [],
   "source": [
    "import pydicom"
   ]
  },
  {
   "cell_type": "code",
   "execution_count": 2,
   "metadata": {},
   "outputs": [],
   "source": [
    "path='/opt/bucketdata/ORIGINAL_DATA/MASTER_DATA_CT/Ruby_Covid_data/ctxray/XR/Murari Krishna - P00000114195/Chest_Portable/PORTABLE - 1/IM-0001-0001-0001.dcm'"
   ]
  },
  {
   "cell_type": "code",
   "execution_count": 3,
   "metadata": {},
   "outputs": [],
   "source": [
    "dcm=pydicom.read_file(path)"
   ]
  },
  {
   "cell_type": "code",
   "execution_count": 4,
   "metadata": {
    "collapsed": true
   },
   "outputs": [
    {
     "ename": "NotImplementedError",
     "evalue": "The pixel data with transfer syntax JPEG 2000 Image Compression, cannot be read because Pillow lacks the JPEG 2000 plugin",
     "output_type": "error",
     "traceback": [
      "\u001b[0;31m---------------------------------------------------------------------------\u001b[0m",
      "\u001b[0;31mNotImplementedError\u001b[0m                       Traceback (most recent call last)",
      "\u001b[0;32m<ipython-input-4-8e298438f3c5>\u001b[0m in \u001b[0;36m<module>\u001b[0;34m\u001b[0m\n\u001b[0;32m----> 1\u001b[0;31m \u001b[0mdcm\u001b[0m\u001b[0;34m.\u001b[0m\u001b[0mpixel_array\u001b[0m\u001b[0;34m\u001b[0m\u001b[0;34m\u001b[0m\u001b[0m\n\u001b[0m",
      "\u001b[0;32m~/anaconda3/envs/tensorflow2_p36/lib/python3.6/site-packages/pydicom/dataset.py\u001b[0m in \u001b[0;36mpixel_array\u001b[0;34m(self)\u001b[0m\n\u001b[1;32m   1714\u001b[0m             \u001b[0;34m:\u001b[0m\u001b[0;32mclass\u001b[0m\u001b[0;34m:\u001b[0m\u001b[0;31m`\u001b[0m\u001b[0mnumpy\u001b[0m\u001b[0;34m.\u001b[0m\u001b[0mndarray\u001b[0m\u001b[0;31m`\u001b[0m\u001b[0;34m.\u001b[0m\u001b[0;34m\u001b[0m\u001b[0;34m\u001b[0m\u001b[0m\n\u001b[1;32m   1715\u001b[0m         \"\"\"\n\u001b[0;32m-> 1716\u001b[0;31m         \u001b[0mself\u001b[0m\u001b[0;34m.\u001b[0m\u001b[0mconvert_pixel_data\u001b[0m\u001b[0;34m(\u001b[0m\u001b[0;34m)\u001b[0m\u001b[0;34m\u001b[0m\u001b[0;34m\u001b[0m\u001b[0m\n\u001b[0m\u001b[1;32m   1717\u001b[0m         \u001b[0;32mreturn\u001b[0m \u001b[0mself\u001b[0m\u001b[0;34m.\u001b[0m\u001b[0m_pixel_array\u001b[0m\u001b[0;34m\u001b[0m\u001b[0;34m\u001b[0m\u001b[0m\n\u001b[1;32m   1718\u001b[0m \u001b[0;34m\u001b[0m\u001b[0m\n",
      "\u001b[0;32m~/anaconda3/envs/tensorflow2_p36/lib/python3.6/site-packages/pydicom/dataset.py\u001b[0m in \u001b[0;36mconvert_pixel_data\u001b[0;34m(self, handler_name)\u001b[0m\n\u001b[1;32m   1433\u001b[0m             \u001b[0mself\u001b[0m\u001b[0;34m.\u001b[0m\u001b[0m_convert_pixel_data_using_handler\u001b[0m\u001b[0;34m(\u001b[0m\u001b[0mhandler_name\u001b[0m\u001b[0;34m)\u001b[0m\u001b[0;34m\u001b[0m\u001b[0;34m\u001b[0m\u001b[0m\n\u001b[1;32m   1434\u001b[0m         \u001b[0;32melse\u001b[0m\u001b[0;34m:\u001b[0m\u001b[0;34m\u001b[0m\u001b[0;34m\u001b[0m\u001b[0m\n\u001b[0;32m-> 1435\u001b[0;31m             \u001b[0mself\u001b[0m\u001b[0;34m.\u001b[0m\u001b[0m_convert_pixel_data_without_handler\u001b[0m\u001b[0;34m(\u001b[0m\u001b[0;34m)\u001b[0m\u001b[0;34m\u001b[0m\u001b[0;34m\u001b[0m\u001b[0m\n\u001b[0m\u001b[1;32m   1436\u001b[0m \u001b[0;34m\u001b[0m\u001b[0m\n\u001b[1;32m   1437\u001b[0m     \u001b[0;32mdef\u001b[0m \u001b[0m_convert_pixel_data_using_handler\u001b[0m\u001b[0;34m(\u001b[0m\u001b[0mself\u001b[0m\u001b[0;34m,\u001b[0m \u001b[0mname\u001b[0m\u001b[0;34m:\u001b[0m \u001b[0mstr\u001b[0m\u001b[0;34m)\u001b[0m \u001b[0;34m->\u001b[0m \u001b[0;32mNone\u001b[0m\u001b[0;34m:\u001b[0m\u001b[0;34m\u001b[0m\u001b[0;34m\u001b[0m\u001b[0m\n",
      "\u001b[0;32m~/anaconda3/envs/tensorflow2_p36/lib/python3.6/site-packages/pydicom/dataset.py\u001b[0m in \u001b[0;36m_convert_pixel_data_without_handler\u001b[0;34m(self)\u001b[0m\n\u001b[1;32m   1543\u001b[0m             \u001b[0;34m.\u001b[0m\u001b[0mformat\u001b[0m\u001b[0;34m(\u001b[0m\u001b[0;34m\", \"\u001b[0m\u001b[0;34m.\u001b[0m\u001b[0mjoin\u001b[0m\u001b[0;34m(\u001b[0m\u001b[0;34m[\u001b[0m\u001b[0mstr\u001b[0m\u001b[0;34m(\u001b[0m\u001b[0mhh\u001b[0m\u001b[0;34m)\u001b[0m \u001b[0;32mfor\u001b[0m \u001b[0mhh\u001b[0m \u001b[0;32min\u001b[0m \u001b[0mavailable_handlers\u001b[0m\u001b[0;34m]\u001b[0m\u001b[0;34m)\u001b[0m\u001b[0;34m)\u001b[0m\u001b[0;34m\u001b[0m\u001b[0;34m\u001b[0m\u001b[0m\n\u001b[1;32m   1544\u001b[0m         )\n\u001b[0;32m-> 1545\u001b[0;31m         \u001b[0;32mraise\u001b[0m \u001b[0mlast_exception\u001b[0m\u001b[0;34m\u001b[0m\u001b[0;34m\u001b[0m\u001b[0m\n\u001b[0m\u001b[1;32m   1546\u001b[0m \u001b[0;34m\u001b[0m\u001b[0m\n\u001b[1;32m   1547\u001b[0m     def _do_pixel_data_conversion(\n",
      "\u001b[0;32m~/anaconda3/envs/tensorflow2_p36/lib/python3.6/site-packages/pydicom/dataset.py\u001b[0m in \u001b[0;36m_convert_pixel_data_without_handler\u001b[0;34m(self)\u001b[0m\n\u001b[1;32m   1523\u001b[0m         \u001b[0;32mfor\u001b[0m \u001b[0mhandler\u001b[0m \u001b[0;32min\u001b[0m \u001b[0mavailable_handlers\u001b[0m\u001b[0;34m:\u001b[0m\u001b[0;34m\u001b[0m\u001b[0;34m\u001b[0m\u001b[0m\n\u001b[1;32m   1524\u001b[0m             \u001b[0;32mtry\u001b[0m\u001b[0;34m:\u001b[0m\u001b[0;34m\u001b[0m\u001b[0;34m\u001b[0m\u001b[0m\n\u001b[0;32m-> 1525\u001b[0;31m                 \u001b[0mself\u001b[0m\u001b[0;34m.\u001b[0m\u001b[0m_do_pixel_data_conversion\u001b[0m\u001b[0;34m(\u001b[0m\u001b[0mhandler\u001b[0m\u001b[0;34m)\u001b[0m\u001b[0;34m\u001b[0m\u001b[0;34m\u001b[0m\u001b[0m\n\u001b[0m\u001b[1;32m   1526\u001b[0m                 \u001b[0;32mreturn\u001b[0m\u001b[0;34m\u001b[0m\u001b[0;34m\u001b[0m\u001b[0m\n\u001b[1;32m   1527\u001b[0m             \u001b[0;32mexcept\u001b[0m \u001b[0mException\u001b[0m \u001b[0;32mas\u001b[0m \u001b[0mexc\u001b[0m\u001b[0;34m:\u001b[0m\u001b[0;34m\u001b[0m\u001b[0;34m\u001b[0m\u001b[0m\n",
      "\u001b[0;32m~/anaconda3/envs/tensorflow2_p36/lib/python3.6/site-packages/pydicom/dataset.py\u001b[0m in \u001b[0;36m_do_pixel_data_conversion\u001b[0;34m(self, handler)\u001b[0m\n\u001b[1;32m   1552\u001b[0m         \u001b[0;31m# Use the handler to get a 1D numpy array of the pixel data\u001b[0m\u001b[0;34m\u001b[0m\u001b[0;34m\u001b[0m\u001b[0;34m\u001b[0m\u001b[0m\n\u001b[1;32m   1553\u001b[0m         \u001b[0;31m# Will raise an exception if no pixel data element\u001b[0m\u001b[0;34m\u001b[0m\u001b[0;34m\u001b[0m\u001b[0;34m\u001b[0m\u001b[0m\n\u001b[0;32m-> 1554\u001b[0;31m         \u001b[0marr\u001b[0m \u001b[0;34m=\u001b[0m \u001b[0mhandler\u001b[0m\u001b[0;34m.\u001b[0m\u001b[0mget_pixeldata\u001b[0m\u001b[0;34m(\u001b[0m\u001b[0mself\u001b[0m\u001b[0;34m)\u001b[0m\u001b[0;34m\u001b[0m\u001b[0;34m\u001b[0m\u001b[0m\n\u001b[0m\u001b[1;32m   1555\u001b[0m         \u001b[0mself\u001b[0m\u001b[0;34m.\u001b[0m\u001b[0m_pixel_array\u001b[0m \u001b[0;34m=\u001b[0m \u001b[0mreshape_pixel_array\u001b[0m\u001b[0;34m(\u001b[0m\u001b[0mself\u001b[0m\u001b[0;34m,\u001b[0m \u001b[0marr\u001b[0m\u001b[0;34m)\u001b[0m\u001b[0;34m\u001b[0m\u001b[0;34m\u001b[0m\u001b[0m\n\u001b[1;32m   1556\u001b[0m \u001b[0;34m\u001b[0m\u001b[0m\n",
      "\u001b[0;32m~/anaconda3/envs/tensorflow2_p36/lib/python3.6/site-packages/pydicom/pixel_data_handlers/pillow_handler.py\u001b[0m in \u001b[0;36mget_pixeldata\u001b[0;34m(ds)\u001b[0m\n\u001b[1;32m    128\u001b[0m     \u001b[0;32mif\u001b[0m \u001b[0;32mnot\u001b[0m \u001b[0mHAVE_JPEG2K\u001b[0m \u001b[0;32mand\u001b[0m \u001b[0mtransfer_syntax\u001b[0m \u001b[0;32min\u001b[0m \u001b[0mPillowJPEG2000TransferSyntaxes\u001b[0m\u001b[0;34m:\u001b[0m\u001b[0;34m\u001b[0m\u001b[0;34m\u001b[0m\u001b[0m\n\u001b[1;32m    129\u001b[0m         raise NotImplementedError(\n\u001b[0;32m--> 130\u001b[0;31m             \u001b[0;34mf\"The pixel data with transfer syntax {transfer_syntax.name}, \"\u001b[0m\u001b[0;34m\u001b[0m\u001b[0;34m\u001b[0m\u001b[0m\n\u001b[0m\u001b[1;32m    131\u001b[0m             \u001b[0;34mf\"cannot be read because Pillow lacks the JPEG 2000 plugin\"\u001b[0m\u001b[0;34m\u001b[0m\u001b[0;34m\u001b[0m\u001b[0m\n\u001b[1;32m    132\u001b[0m         )\n",
      "\u001b[0;31mNotImplementedError\u001b[0m: The pixel data with transfer syntax JPEG 2000 Image Compression, cannot be read because Pillow lacks the JPEG 2000 plugin"
     ]
    }
   ],
   "source": [
    "dcm.pixel_array"
   ]
  },
  {
   "cell_type": "code",
   "execution_count": 6,
   "metadata": {
    "collapsed": true
   },
   "outputs": [
    {
     "data": {
      "text/plain": [
       "256"
      ]
     },
     "execution_count": 6,
     "metadata": {},
     "output_type": "execute_result"
    }
   ],
   "source": [
    "import os\n",
    "os.system('gdcmconv --raw --verbose {0} {1}'.format(path,'./decompressed_Test.dcm'))"
   ]
  },
  {
   "cell_type": "code",
   "execution_count": 7,
   "metadata": {},
   "outputs": [
    {
     "data": {
      "text/plain": [
       "'/opt/bucketdata/ORIGINAL_DATA/MASTER_DATA_CT/Ruby_Covid_data/ctxray/XR/Murari Krishna - P00000114195/Chest_Portable/PORTABLE - 1/IM-0001-0001-0001.dcm'"
      ]
     },
     "execution_count": 7,
     "metadata": {},
     "output_type": "execute_result"
    }
   ],
   "source": [
    "path"
   ]
  },
  {
   "cell_type": "code",
   "execution_count": 9,
   "metadata": {
    "collapsed": true
   },
   "outputs": [
    {
     "name": "stdout",
     "output_type": "stream",
     "text": [
      "Warning: In /build/gdcm-NQLsIX/gdcm-2.8.4/Source/DataStructureAndEncodingDefinition/gdcmDataSet.h, line 297, function void gdcm::DataSet::InsertDataElement(const gdcm::DataElement&)\r\n",
      "DataElement: (0002,0017)\tAE\t0\t(no value available) was already found, skipping duplicate entry.\r\n",
      "Original entry kept is: (0002,0017)\tAE\t10\tMEDSYNAPSE\r\n",
      "\r\n",
      "\r\n",
      "Warning: In /build/gdcm-NQLsIX/gdcm-2.8.4/Source/DataStructureAndEncodingDefinition/gdcmDataSet.h, line 297, function void gdcm::DataSet::InsertDataElement(const gdcm::DataElement&)\r\n",
      "DataElement: (0002,0018)\tAE\t0\t(no value available) was already found, skipping duplicate entry.\r\n",
      "Original entry kept is: (0002,0018)\tAE\t8\tMac-mini\r\n",
      "\r\n",
      "\r\n",
      "Warning: In /build/gdcm-NQLsIX/gdcm-2.8.4/Source/DataStructureAndEncodingDefinition/gdcmFileMetaInformation.cxx, line 901, function gdcm::MediaStorage gdcm::FileMetaInformation::GetMediaStorage() const\r\n",
      "Media Storage Class UID: 435\u0000 is unknown\r\n",
      "\r\n",
      "\r\n",
      "Warning: In /build/gdcm-NQLsIX/gdcm-2.8.4/Source/DataStructureAndEncodingDefinition/gdcmDataSet.cxx, line 151, function gdcm::MediaStorage gdcm::DataSet::GetMediaStorage() const\r\n",
      "Media Storage Class UID: 435\u0000 is unknown\r\n",
      "\r\n",
      "\r\n",
      "Warning: In /build/gdcm-NQLsIX/gdcm-2.8.4/Source/MediaStorageAndFileFormat/gdcmPixmapReader.cxx, line 153, function virtual bool gdcm::PixmapReader::Read()\r\n",
      "Attempting to read this file as a DICOM file\r\n",
      "Desperate attempt\r\n",
      "\r\n",
      "\r\n",
      "Warning: In /build/gdcm-NQLsIX/gdcm-2.8.4/Source/DataStructureAndEncodingDefinition/gdcmMediaStorage.cxx, line 420, function bool gdcm::MediaStorage::SetFromDataSetOrHeader(const gdcm::DataSet&, const gdcm::Tag&)\r\n",
      "Does not know what: 435 is...\r\n",
      "\r\n",
      "\r\n",
      "Could not read (pixmap): /opt/bucketdata/ORIGINAL_DATA/MASTER_DATA_CT/Ruby_Covid_data/ctxray/XR/Murari Krishna - P00000114195/Chest_Portable/PORTABLE - 1/IM-0001-0001-0001.dcm\r\n"
     ]
    }
   ],
   "source": [
    "! gdcmconv --raw --verbose '/opt/bucketdata/ORIGINAL_DATA/MASTER_DATA_CT/Ruby_Covid_data/ctxray/XR/Murari Krishna - P00000114195/Chest_Portable/PORTABLE - 1/IM-0001-0001-0001.dcm' './decompressed_Test.dcm'"
   ]
  },
  {
   "cell_type": "code",
   "execution_count": 12,
   "metadata": {
    "collapsed": true
   },
   "outputs": [
    {
     "data": {
      "text/plain": [
       "'./IM-0001-0001-0001.dcm'"
      ]
     },
     "execution_count": 12,
     "metadata": {},
     "output_type": "execute_result"
    }
   ],
   "source": [
    "import shutil\n",
    "shutil.copy(path, './')"
   ]
  },
  {
   "cell_type": "code",
   "execution_count": 13,
   "metadata": {
    "collapsed": true
   },
   "outputs": [
    {
     "name": "stdout",
     "output_type": "stream",
     "text": [
      "Warning: In /build/gdcm-NQLsIX/gdcm-2.8.4/Source/DataStructureAndEncodingDefinition/gdcmDataSet.h, line 297, function void gdcm::DataSet::InsertDataElement(const gdcm::DataElement&)\r\n",
      "DataElement: (0002,0017)\tAE\t0\t(no value available) was already found, skipping duplicate entry.\r\n",
      "Original entry kept is: (0002,0017)\tAE\t10\tMEDSYNAPSE\r\n",
      "\r\n",
      "\r\n",
      "Warning: In /build/gdcm-NQLsIX/gdcm-2.8.4/Source/DataStructureAndEncodingDefinition/gdcmDataSet.h, line 297, function void gdcm::DataSet::InsertDataElement(const gdcm::DataElement&)\r\n",
      "DataElement: (0002,0018)\tAE\t0\t(no value available) was already found, skipping duplicate entry.\r\n",
      "Original entry kept is: (0002,0018)\tAE\t8\tMac-mini\r\n",
      "\r\n",
      "\r\n",
      "Warning: In /build/gdcm-NQLsIX/gdcm-2.8.4/Source/DataStructureAndEncodingDefinition/gdcmFileMetaInformation.cxx, line 901, function gdcm::MediaStorage gdcm::FileMetaInformation::GetMediaStorage() const\r\n",
      "Media Storage Class UID: 435\u0000 is unknown\r\n",
      "\r\n",
      "\r\n",
      "Warning: In /build/gdcm-NQLsIX/gdcm-2.8.4/Source/DataStructureAndEncodingDefinition/gdcmDataSet.cxx, line 151, function gdcm::MediaStorage gdcm::DataSet::GetMediaStorage() const\r\n",
      "Media Storage Class UID: 435\u0000 is unknown\r\n",
      "\r\n",
      "\r\n",
      "Warning: In /build/gdcm-NQLsIX/gdcm-2.8.4/Source/MediaStorageAndFileFormat/gdcmPixmapReader.cxx, line 153, function virtual bool gdcm::PixmapReader::Read()\r\n",
      "Attempting to read this file as a DICOM file\r\n",
      "Desperate attempt\r\n",
      "\r\n",
      "\r\n",
      "Warning: In /build/gdcm-NQLsIX/gdcm-2.8.4/Source/DataStructureAndEncodingDefinition/gdcmMediaStorage.cxx, line 420, function bool gdcm::MediaStorage::SetFromDataSetOrHeader(const gdcm::DataSet&, const gdcm::Tag&)\r\n",
      "Does not know what: 435 is...\r\n",
      "\r\n",
      "\r\n",
      "Could not read (pixmap): ./IM-0001-0001-0001.dcm\r\n"
     ]
    }
   ],
   "source": [
    "! gdcmconv --raw --verbose './IM-0001-0001-0001.dcm' './decompressed.dcm'"
   ]
  },
  {
   "cell_type": "code",
   "execution_count": null,
   "metadata": {},
   "outputs": [],
   "source": []
  },
  {
   "cell_type": "code",
   "execution_count": 30,
   "metadata": {},
   "outputs": [],
   "source": [
    "import pandas as pd\n",
    "df=pd.read_csv('/opt/bucketdata/Users/tanveer/pneumonia/ruby_analysis/unreadable_dicoms.csv')"
   ]
  },
  {
   "cell_type": "code",
   "execution_count": 37,
   "metadata": {},
   "outputs": [
    {
     "data": {
      "text/plain": [
       "'/opt/bucketdata/ORIGINAL_DATA/MASTER_DATA_CT/Ruby_Covid_data/ctxray/XR/Auti Jaisingh D     (001403) . - 000011450367/Knee - 2 Views/LAT WGHT BEARING - 8/IM-0001-0001-0001.dcm'"
      ]
     },
     "execution_count": 37,
     "metadata": {},
     "output_type": "execute_result"
    }
   ],
   "source": [
    "df['unreadable_dicoms'][1]"
   ]
  },
  {
   "cell_type": "code",
   "execution_count": 87,
   "metadata": {},
   "outputs": [],
   "source": [
    "! mkdir ./ruby_xrays/"
   ]
  },
  {
   "cell_type": "code",
   "execution_count": 43,
   "metadata": {},
   "outputs": [],
   "source": [
    "a='/opt/bucketdata/ORIGINAL_DATA/MASTER_DATA_CT/Ruby_Covid_data/ctxray/XR/Auti Jaisingh D     (001403) . - 000011450367/Knee - 2 Views/LAT WGHT BEARING - 8/IM-0001-0001-0001.dcm'"
   ]
  },
  {
   "cell_type": "code",
   "execution_count": 42,
   "metadata": {},
   "outputs": [
    {
     "data": {
      "text/plain": [
       "'./ruby_xrays/Auti Jaisingh D     (001403) . - 000011450367/'"
      ]
     },
     "execution_count": 42,
     "metadata": {},
     "output_type": "execute_result"
    }
   ],
   "source": [
    "shutil.copytree('/opt/bucketdata/ORIGINAL_DATA/MASTER_DATA_CT/Ruby_Covid_data/ctxray/XR/Auti Jaisingh D     (001403) . - 000011450367/', './ruby_xrays/Auti Jaisingh D     (001403) . - 000011450367/')"
   ]
  },
  {
   "cell_type": "markdown",
   "metadata": {},
   "source": [
    "for idx, i in enumerate(list(df['unreadable_dicoms'])):\n",
    "    source_path=('/').join(i.split('/')[:10])\n",
    "    destination_path='./ruby_xrays/'+i.split('/')[8]+'/'+i.split('/')[9]\n",
    "    print (idx)\n",
    "    try:\n",
    "        shutil.copytree(source_path,destination_path)\n",
    "    except:\n",
    "        print (idx, i)"
   ]
  },
  {
   "cell_type": "code",
   "execution_count": 92,
   "metadata": {},
   "outputs": [
    {
     "name": "stdout",
     "output_type": "stream",
     "text": [
      "  adding: ruby_xrays/ (stored 0%)\n",
      "  adding: ruby_xrays/_opt_bucketdata_ORIGINAL_DATA_MASTER_DATA_CT_Ruby_Covid_data_ctxray_XR_Auti Jaisingh D     (001403) . - 000011450367_Knee - 2 Views_AP WGHT BEARING - 9_IM-0001-0001-0001.dcm (deflated 73%)\n",
      "  adding: ruby_xrays/_opt_bucketdata_ORIGINAL_DATA_MASTER_DATA_CT_Ruby_Covid_data_ctxray_XR_Auti Jaisingh D     (001403) . - 000011450367_Knee - 2 Views_LAT WGHT BEARING - 8_IM-0001-0001-0001.dcm (deflated 68%)\n",
      "  adding: ruby_xrays/_opt_bucketdata_ORIGINAL_DATA_MASTER_DATA_CT_Ruby_Covid_data_ctxray_XR_Khandve Popat Kisan . - P00000109261_Chest X Ray_PORTABLE - 1_IM-0001-0001-0001.dcm (deflated 0%)\n",
      "  adding: ruby_xrays/_opt_bucketdata_ORIGINAL_DATA_MASTER_DATA_CT_Ruby_Covid_data_ctxray_XR_Koli Lalita Pradeep . - P00000106862_Chest X Ray_PORTABLE - 1_IM-0001-0001-0001.dcm (deflated 0%)\n",
      "  adding: ruby_xrays/_opt_bucketdata_ORIGINAL_DATA_MASTER_DATA_CT_Ruby_Covid_data_ctxray_XR_Kuvalekar  Ashish S . - P00000105767_Chest X Ray_PORTABLE - 1_IM-0001-0001-0001.dcm (deflated 0%)\n",
      "  adding: ruby_xrays/_opt_bucketdata_ORIGINAL_DATA_MASTER_DATA_CT_Ruby_Covid_data_ctxray_XR_Kuvalekar  Ashish S . - P00000105767_Adult Chest_PA - 1_IM-0001-0001-0001.dcm (deflated 0%)\n",
      "  adding: ruby_xrays/_opt_bucketdata_ORIGINAL_DATA_MASTER_DATA_CT_Ruby_Covid_data_ctxray_XR_Mr Laxman Ramakrishna - 000011581488_Chest_Portable_PORTABLE - 1_IM-0001-0002-0001.dcm (deflated 0%)\n",
      "  adding: ruby_xrays/_opt_bucketdata_ORIGINAL_DATA_MASTER_DATA_CT_Ruby_Covid_data_ctxray_XR_Mr Laxman Ramakrishna - 000011581488_Chest_Portable_PORTABLE - 1_IM-0001-0001-0001.dcm (deflated 0%)\n",
      "  adding: ruby_xrays/_opt_bucketdata_ORIGINAL_DATA_MASTER_DATA_CT_Ruby_Covid_data_ctxray_XR_Parmar Bhavik Rajesh . - P00000103049_Chest X Ray_PA - 603_IM-0001-0001-0001.dcm (deflated 0%)\n",
      "  adding: ruby_xrays/_opt_bucketdata_ORIGINAL_DATA_MASTER_DATA_CT_Ruby_Covid_data_ctxray_XR_Parmar Bhavik Rajesh . - P00000103049_Chest X Ray_PORTABLE - 1_IM-0001-0001-0001.dcm (deflated 0%)\n",
      "  adding: ruby_xrays/_opt_bucketdata_ORIGINAL_DATA_MASTER_DATA_CT_Ruby_Covid_data_ctxray_XR_Parmar Bhavik Rajesh . - P00000103049_Chest X Ray_unnamed - 1_IM-0001-0001-0001.dcm (deflated 0%)\n",
      "  adding: ruby_xrays/_opt_bucketdata_ORIGINAL_DATA_MASTER_DATA_CT_Ruby_Covid_data_ctxray_XR_Parmar Bhavik Rajesh . - P00000103049_Chest X Ray_unnamed - 1_IM-0001-0001-0002.dcm (deflated 0%)\n",
      "  adding: ruby_xrays/_opt_bucketdata_ORIGINAL_DATA_MASTER_DATA_CT_Ruby_Covid_data_ctxray_XR_Parmar Trushna Paresh . - 000011581968_Chest X Ray_PORTABLE - 1_IM-0001-0001-0004.dcm (deflated 0%)\n",
      "  adding: ruby_xrays/_opt_bucketdata_ORIGINAL_DATA_MASTER_DATA_CT_Ruby_Covid_data_ctxray_XR_Parmar Trushna Paresh . - 000011581968_Chest X Ray_PORTABLE - 1_IM-0001-0001-0003.dcm (deflated 0%)\n",
      "  adding: ruby_xrays/_opt_bucketdata_ORIGINAL_DATA_MASTER_DATA_CT_Ruby_Covid_data_ctxray_XR_Parmar Trushna Paresh . - 000011581968_Chest X Ray_PORTABLE - 1_IM-0001-0001-0001.dcm (deflated 0%)\n",
      "  adding: ruby_xrays/_opt_bucketdata_ORIGINAL_DATA_MASTER_DATA_CT_Ruby_Covid_data_ctxray_XR_Parmar Trushna Paresh . - 000011581968_Chest X Ray_PORTABLE - 1_IM-0001-0001-0002.dcm (deflated 0%)\n",
      "  adding: ruby_xrays/_opt_bucketdata_ORIGINAL_DATA_MASTER_DATA_CT_Ruby_Covid_data_ctxray_XR_Renuse Bhimaji Bhikoba . - 10350757_Chest X Ray_PORTABLE - 1_IM-0001-0003-0001.dcm (deflated 0%)\n",
      "  adding: ruby_xrays/_opt_bucketdata_ORIGINAL_DATA_MASTER_DATA_CT_Ruby_Covid_data_ctxray_XR_Renuse Bhimaji Bhikoba . - 10350757_Chest X Ray_PORTABLE - 1_IM-0001-0001-0002.dcm (deflated 0%)\n",
      "  adding: ruby_xrays/_opt_bucketdata_ORIGINAL_DATA_MASTER_DATA_CT_Ruby_Covid_data_ctxray_XR_Renuse Bhimaji Bhikoba . - 10350757_Chest X Ray_PORTABLE - 1_IM-0001-0001-0001.dcm (deflated 0%)\n",
      "  adding: ruby_xrays/_opt_bucketdata_ORIGINAL_DATA_MASTER_DATA_CT_Ruby_Covid_data_ctxray_XR_Renuse Bhimaji Bhikoba . - 10350757_Chest X Ray_PA - 620_IM-0001-0001-0001.dcm (deflated 0%)\n",
      "  adding: ruby_xrays/_opt_bucketdata_ORIGINAL_DATA_MASTER_DATA_CT_Ruby_Covid_data_ctxray_XR_Renuse Bhimaji Bhikoba . - 10350757_Chest X Ray_PA - 617_IM-0001-0001-0001.dcm (deflated 0%)\n",
      "  adding: ruby_xrays/_opt_bucketdata_ORIGINAL_DATA_MASTER_DATA_CT_Ruby_Covid_data_ctxray_XR_Renuse Bhimaji Bhikoba . - 10350757_Chest X Ray_unnamed - 1_IM-0001-0001-0004.dcm (deflated 0%)\n",
      "  adding: ruby_xrays/_opt_bucketdata_ORIGINAL_DATA_MASTER_DATA_CT_Ruby_Covid_data_ctxray_XR_Renuse Bhimaji Bhikoba . - 10350757_Chest X Ray_unnamed - 1_IM-0001-0001-0003.dcm (deflated 0%)\n",
      "  adding: ruby_xrays/_opt_bucketdata_ORIGINAL_DATA_MASTER_DATA_CT_Ruby_Covid_data_ctxray_XR_Renuse Bhimaji Bhikoba . - 10350757_Chest X Ray_unnamed - 1_IM-0001-0001-0002.dcm (deflated 0%)\n",
      "  adding: ruby_xrays/_opt_bucketdata_ORIGINAL_DATA_MASTER_DATA_CT_Ruby_Covid_data_ctxray_XR_Renuse Bhimaji Bhikoba . - 10350757_Chest X Ray_unnamed - 1_IM-0001-0001-0001.dcm (deflated 0%)\n",
      "  adding: ruby_xrays/_opt_bucketdata_ORIGINAL_DATA_MASTER_DATA_CT_Ruby_Covid_data_ctxray_XR_Renuse Bhimaji Bhikoba . - 10350757_Port - Cxr_AP - 616_IM-0001-0001-0001.dcm (deflated 0%)\n",
      "  adding: ruby_xrays/_opt_bucketdata_ORIGINAL_DATA_MASTER_DATA_CT_Ruby_Covid_data_ctxray_XR_Shaikh Khaled Rashid . - P00000109097_Chest X Ray_PORTABLE - 1_IM-0001-0001-0001.dcm (deflated 0%)\n",
      "  adding: ruby_xrays/_opt_bucketdata_ORIGINAL_DATA_MASTER_DATA_CT_Ruby_Covid_data_ctxray_XR_Valsangkar Vasundhara H . - P00000106831_Chest X Ray_unnamed - 1_IM-0001-0001-0002.dcm (deflated 0%)\n",
      "  adding: ruby_xrays/_opt_bucketdata_ORIGINAL_DATA_MASTER_DATA_CT_Ruby_Covid_data_ctxray_XR_Valsangkar Vasundhara H . - P00000106831_Chest X Ray_unnamed - 1_IM-0001-0001-0001.dcm (deflated 0%)\n",
      "  adding: ruby_xrays/_opt_bucketdata_ORIGINAL_DATA_MASTER_DATA_CT_Ruby_Covid_data_ctxray_XR_Bagal Sunil . - 000011582360_Chest X Ray_PORTABLE - 1_IM-0001-0001-0001.dcm (deflated 0%)\n",
      "  adding: ruby_xrays/_opt_bucketdata_ORIGINAL_DATA_MASTER_DATA_CT_Ruby_Covid_data_ctxray_XR_Chilke Tejas Ramkishan . - 000011582661_Chest X Ray_PORTABLE - 1_IM-0001-0001-0001.dcm (deflated 0%)\n",
      "  adding: ruby_xrays/_opt_bucketdata_ORIGINAL_DATA_MASTER_DATA_CT_Ruby_Covid_data_ctxray_XR_Chilke Tejas Ramkishan . - 000011582661_Chest X Ray_PORTABLE - 1_IM-0001-0001-0002.dcm (deflated 0%)\n",
      "  adding: ruby_xrays/_opt_bucketdata_ORIGINAL_DATA_MASTER_DATA_CT_Ruby_Covid_data_ctxray_XR_Gandhi  Savita Ashok . - 10568220_Chest X Ray_PORTABLE - 1_IM-0001-0001-0001.dcm (deflated 0%)\n",
      "  adding: ruby_xrays/_opt_bucketdata_ORIGINAL_DATA_MASTER_DATA_CT_Ruby_Covid_data_ctxray_XR_Gandhi  Savita Ashok . - 10568220_Chest X Ray_PORTABLE - 1_IM-0001-0001-0003.dcm (deflated 0%)\n",
      "  adding: ruby_xrays/_opt_bucketdata_ORIGINAL_DATA_MASTER_DATA_CT_Ruby_Covid_data_ctxray_XR_Gandhi  Savita Ashok . - 10568220_Chest X Ray_PORTABLE - 1_IM-0001-0001-0002.dcm (deflated 0%)\n",
      "  adding: ruby_xrays/_opt_bucketdata_ORIGINAL_DATA_MASTER_DATA_CT_Ruby_Covid_data_ctxray_XR_Gandhi  Savita Ashok . - 10568220_Chest X Ray_PA - 605_IM-0001-0001-0001.dcm (deflated 0%)\n",
      "  adding: ruby_xrays/_opt_bucketdata_ORIGINAL_DATA_MASTER_DATA_CT_Ruby_Covid_data_ctxray_XR_Gandhi  Savita Ashok . - 10568220_Chest X Ray_PA - 602_IM-0001-0001-0001.dcm (deflated 0%)\n",
      "  adding: ruby_xrays/_opt_bucketdata_ORIGINAL_DATA_MASTER_DATA_CT_Ruby_Covid_data_ctxray_XR_Gandhi  Savita Ashok . - 10568220_Chest X Ray_AP - 1_IM-0001-0001-0001.dcm (deflated 0%)\n",
      "  adding: ruby_xrays/_opt_bucketdata_ORIGINAL_DATA_MASTER_DATA_CT_Ruby_Covid_data_ctxray_XR_Gandhi  Savita Ashok . - 10568220_Adult Chest_AP - 2_IM-0001-0001-0001.dcm (deflated 0%)\n",
      "  adding: ruby_xrays/_opt_bucketdata_ORIGINAL_DATA_MASTER_DATA_CT_Ruby_Covid_data_ctxray_XR_Gandhi  Savita Ashok . - 10568220_Adult Chest_AP - 2_IM-0001-0001-0002.dcm (deflated 0%)\n",
      "  adding: ruby_xrays/_opt_bucketdata_ORIGINAL_DATA_MASTER_DATA_CT_Ruby_Covid_data_ctxray_XR_Jadhav Kishore - P00000104800_Ap_AP - 645_IM-0001-0001-0001.dcm (deflated 0%)\n",
      "  adding: ruby_xrays/_opt_bucketdata_ORIGINAL_DATA_MASTER_DATA_CT_Ruby_Covid_data_ctxray_XR_Jadhav Pravin Sukhdev . - P00000108565_Chest X Ray_PORTABLE - 1_IM-0001-0001-0001.dcm (deflated 0%)\n",
      "  adding: ruby_xrays/_opt_bucketdata_ORIGINAL_DATA_MASTER_DATA_CT_Ruby_Covid_data_ctxray_XR_Jadhav Vilas Vasudeo . - P00000100522_Chest X Ray_PORTABLE - 1_IM-0001-0001-0001.dcm (deflated 0%)\n",
      "  adding: ruby_xrays/_opt_bucketdata_ORIGINAL_DATA_MASTER_DATA_CT_Ruby_Covid_data_ctxray_XR_Jadhav Vilas Vasudeo . - P00000100522_Chest X Ray_PORTABLE - 1_IM-0001-0001-0002.dcm (deflated 0%)\n",
      "  adding: ruby_xrays/_opt_bucketdata_ORIGINAL_DATA_MASTER_DATA_CT_Ruby_Covid_data_ctxray_XR_Kamble Rambhau Maruti . - P00000105671_Chest X Ray_PORTABLE - 1_IM-0001-0001-0001.dcm (deflated 0%)\n",
      "  adding: ruby_xrays/_opt_bucketdata_ORIGINAL_DATA_MASTER_DATA_CT_Ruby_Covid_data_ctxray_XR_Kamble Rambhau Maruti . - P00000105671_Chest X Ray_PORTABLE - 1_IM-0001-0001-0002.dcm (deflated 0%)\n",
      "  adding: ruby_xrays/_opt_bucketdata_ORIGINAL_DATA_MASTER_DATA_CT_Ruby_Covid_data_ctxray_XR_Khandekar  Balasaheb V . - P00000106107_Chest X Ray_PORTABLE - 1_IM-0001-0001-0001.dcm (deflated 0%)\n",
      "  adding: ruby_xrays/_opt_bucketdata_ORIGINAL_DATA_MASTER_DATA_CT_Ruby_Covid_data_ctxray_XR_Khandekar  Balasaheb V . - P00000106107_Chest X Ray_PORTABLE - 1_IM-0001-0001-0006.dcm (deflated 0%)\n",
      "  adding: ruby_xrays/_opt_bucketdata_ORIGINAL_DATA_MASTER_DATA_CT_Ruby_Covid_data_ctxray_XR_Khandekar  Balasaheb V . - P00000106107_Chest X Ray_PORTABLE - 1_IM-0001-0001-0008.dcm (deflated 0%)\n",
      "  adding: ruby_xrays/_opt_bucketdata_ORIGINAL_DATA_MASTER_DATA_CT_Ruby_Covid_data_ctxray_XR_Khandekar  Balasaheb V . - P00000106107_Chest X Ray_PORTABLE - 1_IM-0001-0001-0003.dcm (deflated 0%)\n",
      "  adding: ruby_xrays/_opt_bucketdata_ORIGINAL_DATA_MASTER_DATA_CT_Ruby_Covid_data_ctxray_XR_Khandekar  Balasaheb V . - P00000106107_Chest X Ray_PORTABLE - 1_IM-0001-0001-0010.dcm (deflated 0%)\n",
      "  adding: ruby_xrays/_opt_bucketdata_ORIGINAL_DATA_MASTER_DATA_CT_Ruby_Covid_data_ctxray_XR_Khandekar  Balasaheb V . - P00000106107_Chest X Ray_PORTABLE - 1_IM-0001-0001-0004.dcm (deflated 0%)\n",
      "  adding: ruby_xrays/_opt_bucketdata_ORIGINAL_DATA_MASTER_DATA_CT_Ruby_Covid_data_ctxray_XR_Khandekar  Balasaheb V . - P00000106107_Chest X Ray_PORTABLE - 1_IM-0001-0001-0009.dcm (deflated 0%)\n",
      "  adding: ruby_xrays/_opt_bucketdata_ORIGINAL_DATA_MASTER_DATA_CT_Ruby_Covid_data_ctxray_XR_Khandekar  Balasaheb V . - P00000106107_Chest X Ray_PORTABLE - 1_IM-0001-0001-0005.dcm (deflated 0%)\n",
      "  adding: ruby_xrays/_opt_bucketdata_ORIGINAL_DATA_MASTER_DATA_CT_Ruby_Covid_data_ctxray_XR_Khandekar  Balasaheb V . - P00000106107_Chest X Ray_PORTABLE - 1_IM-0001-0001-0002.dcm (deflated 0%)\n",
      "  adding: ruby_xrays/_opt_bucketdata_ORIGINAL_DATA_MASTER_DATA_CT_Ruby_Covid_data_ctxray_XR_Khandekar  Balasaheb V . - P00000106107_Chest X Ray_PORTABLE - 1_IM-0001-0001-0007.dcm (deflated 0%)\n",
      "  adding: ruby_xrays/_opt_bucketdata_ORIGINAL_DATA_MASTER_DATA_CT_Ruby_Covid_data_ctxray_XR_Pugaliya Pradeep . - P00000109216_Chest X Ray_PORTABLE - 1_IM-0001-0001-0001.dcm (deflated 0%)\n",
      "  adding: ruby_xrays/_opt_bucketdata_ORIGINAL_DATA_MASTER_DATA_CT_Ruby_Covid_data_ctxray_XR_Rathod Parasmal B . - P00000107723_Chest X Ray_PORTABLE - 1_IM-0001-0001-0001.dcm (deflated 0%)\n",
      "  adding: ruby_xrays/_opt_bucketdata_ORIGINAL_DATA_MASTER_DATA_CT_Ruby_Covid_data_ctxray_XR_Suhas Dhobale . - 000011582943_Chest X Ray_PORTABLE - 1_IM-0001-0001-0002.dcm (deflated 0%)\n",
      "  adding: ruby_xrays/_opt_bucketdata_ORIGINAL_DATA_MASTER_DATA_CT_Ruby_Covid_data_ctxray_XR_Suhas Dhobale . - 000011582943_Chest X Ray_PORTABLE - 1_IM-0001-0001-0003.dcm (deflated 0%)\n",
      "  adding: ruby_xrays/_opt_bucketdata_ORIGINAL_DATA_MASTER_DATA_CT_Ruby_Covid_data_ctxray_XR_Suhas Dhobale . - 000011582943_Chest X Ray_PORTABLE - 1_IM-0001-0001-0001.dcm (deflated 0%)\n",
      "  adding: ruby_xrays/_opt_bucketdata_ORIGINAL_DATA_MASTER_DATA_CT_Ruby_Covid_data_ctxray_XR_Suryawanshi Suraj . - P00000101692_Adult Chest_PA - 1_IM-0001-0001-0001.dcm (deflated 0%)\n",
      "  adding: ruby_xrays/_opt_bucketdata_ORIGINAL_DATA_MASTER_DATA_CT_Ruby_Covid_data_ctxray_XR_Tambe Tushar Tulshiram . - P00000094347_Chest X Ray_PORTABLE - 1_IM-0001-0001-0002.dcm (deflated 0%)\n",
      "  adding: ruby_xrays/_opt_bucketdata_ORIGINAL_DATA_MASTER_DATA_CT_Ruby_Covid_data_ctxray_XR_Tambe Tushar Tulshiram . - P00000094347_Chest X Ray_PORTABLE - 1_IM-0001-0001-0001.dcm (deflated 0%)\n",
      "  adding: ruby_xrays/_opt_bucketdata_ORIGINAL_DATA_MASTER_DATA_CT_Ruby_Covid_data_ctxray_XR_Thorat Santosh Kisan . - P00000110108_Chest X Ray_PA - 622_IM-0001-0001-0001.dcm (deflated 0%)\n",
      "  adding: ruby_xrays/_opt_bucketdata_ORIGINAL_DATA_MASTER_DATA_CT_Ruby_Covid_data_ctxray_XR_Thorat Santosh Kisan . - P00000110108_Chest X Ray_PA - 624_IM-0001-0001-0001.dcm (deflated 0%)\n",
      "  adding: ruby_xrays/_opt_bucketdata_ORIGINAL_DATA_MASTER_DATA_CT_Ruby_Covid_data_ctxray_XR_Wadkar Ganesh S . - P00000109217_Chest X Ray_PORTABLE - 1_IM-0001-0001-0002.dcm (deflated 0%)\n",
      "  adding: ruby_xrays/_opt_bucketdata_ORIGINAL_DATA_MASTER_DATA_CT_Ruby_Covid_data_ctxray_XR_Wadkar Ganesh S . - P00000109217_Chest X Ray_PORTABLE - 1_IM-0001-0001-0001.dcm (deflated 0%)\n",
      "  adding: ruby_xrays/_opt_bucketdata_ORIGINAL_DATA_MASTER_DATA_CT_Ruby_Covid_data_ctxray_XR_Chavan Ravindra Baban . - P00000095971_Chest X Ray_PORTABLE - 1_IM-0001-0001-0001.dcm (deflated 0%)\n",
      "  adding: ruby_xrays/_opt_bucketdata_ORIGINAL_DATA_MASTER_DATA_CT_Ruby_Covid_data_ctxray_XR_Dastagir Farida Gulam . - 000011581967_Chest X Ray_PORTABLE - 1_IM-0001-0001-0002.dcm (deflated 0%)\n",
      "  adding: ruby_xrays/_opt_bucketdata_ORIGINAL_DATA_MASTER_DATA_CT_Ruby_Covid_data_ctxray_XR_Dastagir Farida Gulam . - 000011581967_Chest X Ray_PORTABLE - 1_IM-0001-0001-0003.dcm (deflated 0%)\n",
      "  adding: ruby_xrays/_opt_bucketdata_ORIGINAL_DATA_MASTER_DATA_CT_Ruby_Covid_data_ctxray_XR_Dastagir Farida Gulam . - 000011581967_Chest X Ray_PORTABLE - 1_IM-0001-0001-0001.dcm (deflated 0%)\n",
      "  adding: ruby_xrays/_opt_bucketdata_ORIGINAL_DATA_MASTER_DATA_CT_Ruby_Covid_data_ctxray_XR_Gugale Mohanlal K . - 10921610_Adult Chest - 1 View_AP - 1079_IM-0001-0001-0001.dcm (deflated 0%)\n",
      "  adding: ruby_xrays/_opt_bucketdata_ORIGINAL_DATA_MASTER_DATA_CT_Ruby_Covid_data_ctxray_XR_Gugale Mohanlal K . - 10921610_Adult Chest - 1 View_PA - 1065_IM-0001-0001-0001.dcm (deflated 0%)\n",
      "  adding: ruby_xrays/_opt_bucketdata_ORIGINAL_DATA_MASTER_DATA_CT_Ruby_Covid_data_ctxray_XR_Gugale Mohanlal K . - 10921610_Adult Chest - 1 View_PA - 1092_IM-0001-0001-0001.dcm (deflated 0%)\n",
      "  adding: ruby_xrays/_opt_bucketdata_ORIGINAL_DATA_MASTER_DATA_CT_Ruby_Covid_data_ctxray_XR_Gugale Mohanlal K . - 10921610_Chest X Ray_PA - 1_IM-0001-0001-0001.dcm (deflated 0%)\n",
      "  adding: ruby_xrays/_opt_bucketdata_ORIGINAL_DATA_MASTER_DATA_CT_Ruby_Covid_data_ctxray_XR_Gugale Mohanlal K . - 10921610_Chest X Ray_PA - 1_IM-0001-0001-0002.dcm (deflated 0%)\n",
      "  adding: ruby_xrays/_opt_bucketdata_ORIGINAL_DATA_MASTER_DATA_CT_Ruby_Covid_data_ctxray_XR_Jamshida Fakir M Shaikh . - 000011582528_Chest X Ray_PORTABLE - 1_IM-0001-0002-0001.dcm (deflated 0%)\n",
      "  adding: ruby_xrays/_opt_bucketdata_ORIGINAL_DATA_MASTER_DATA_CT_Ruby_Covid_data_ctxray_XR_Jamshida Fakir M Shaikh . - 000011582528_Chest X Ray_PORTABLE - 1_IM-0001-0001-0001.dcm (deflated 0%)\n",
      "  adding: ruby_xrays/_opt_bucketdata_ORIGINAL_DATA_MASTER_DATA_CT_Ruby_Covid_data_ctxray_XR_Jamshida Fakir M Shaikh . - 000011582528_Chest X Ray_PORTABLE - 1_IM-0001-0001-0002.dcm (deflated 0%)\n",
      "  adding: ruby_xrays/_opt_bucketdata_ORIGINAL_DATA_MASTER_DATA_CT_Ruby_Covid_data_ctxray_XR_Jamshida Fakir M Shaikh . - 000011582528_Chest X Ray_PORTABLE - 1_IM-0001-0001-0003.dcm (deflated 0%)\n",
      "  adding: ruby_xrays/_opt_bucketdata_ORIGINAL_DATA_MASTER_DATA_CT_Ruby_Covid_data_ctxray_XR_Khabiya Umesh Rajendra . - P00000103968_Chest X Ray_PORTABLE - 1_IM-0001-0001-0001.dcm (deflated 0%)\n",
      "  adding: ruby_xrays/_opt_bucketdata_ORIGINAL_DATA_MASTER_DATA_CT_Ruby_Covid_data_ctxray_XR_Late Nilesh Murlidhar . - P00000107691_Chest X Ray_PORTABLE - 1_IM-0001-0001-0001.dcm (deflated 0%)\n",
      "  adding: ruby_xrays/_opt_bucketdata_ORIGINAL_DATA_MASTER_DATA_CT_Ruby_Covid_data_ctxray_XR_Laxmiputra Dodmani . - P00000105071_Chest X Ray_PORTABLE - 1_IM-0001-0001-0001.dcm (deflated 0%)\n",
      "  adding: ruby_xrays/_opt_bucketdata_ORIGINAL_DATA_MASTER_DATA_CT_Ruby_Covid_data_ctxray_XR_Lonkar Shobha Murlidhar . - 000011502934_Adult Chest - 1 View_PA - 572_IM-0001-0001-0001.dcm (deflated 0%)\n",
      "  adding: ruby_xrays/_opt_bucketdata_ORIGINAL_DATA_MASTER_DATA_CT_Ruby_Covid_data_ctxray_XR_Lonkar Shobha Murlidhar . - 000011502934_Chest X Ray_PA - 569_IM-0001-0001-0001.dcm (deflated 0%)\n",
      "  adding: ruby_xrays/_opt_bucketdata_ORIGINAL_DATA_MASTER_DATA_CT_Ruby_Covid_data_ctxray_XR_Nimbalkar Ram Udaysing . - P00000099496_Adult Chest - 1 View_PA - 600_IM-0001-0001-0001.dcm (deflated 0%)\n",
      "  adding: ruby_xrays/_opt_bucketdata_ORIGINAL_DATA_MASTER_DATA_CT_Ruby_Covid_data_ctxray_XR_Randive Prabhakar - 11246983_Chest_Portable_PORTABLE - 1_IM-0001-0001-0001.dcm (deflated 0%)\n"
     ]
    },
    {
     "name": "stdout",
     "output_type": "stream",
     "text": [
      "  adding: ruby_xrays/_opt_bucketdata_ORIGINAL_DATA_MASTER_DATA_CT_Ruby_Covid_data_ctxray_XR_Urankar Nitin Janardhan     (040 . - 000011330045_Chest Pa_CHEST PA - 1_IM-0001-0001-0001.dcm (deflated 0%)\n",
      "  adding: ruby_xrays/_opt_bucketdata_ORIGINAL_DATA_MASTER_DATA_CT_Ruby_Covid_data_ctxray_XR_Bhise Kousalya - P00000097607_Chest_Portable_PORTABLE - 1_IM-0001-0001-0001.dcm (deflated 0%)\n",
      "  adding: ruby_xrays/_opt_bucketdata_ORIGINAL_DATA_MASTER_DATA_CT_Ruby_Covid_data_ctxray_XR_Joshi Raghawendra U . - P00000102034_Adult Chest - 1 View_PA - 599_IM-0001-0001-0001.dcm (deflated 0%)\n",
      "  adding: ruby_xrays/_opt_bucketdata_ORIGINAL_DATA_MASTER_DATA_CT_Ruby_Covid_data_ctxray_XR_Joshi Raghawendra U . - P00000102034_Adult Chest - 1 View_PA - 599_IM-0001-0001-0002.dcm (deflated 0%)\n",
      "  adding: ruby_xrays/_opt_bucketdata_ORIGINAL_DATA_MASTER_DATA_CT_Ruby_Covid_data_ctxray_XR_Joshi Raghawendra U . - P00000102034_Adult Chest - 1 View_PA - 602_IM-0001-0001-0001.dcm (deflated 0%)\n",
      "  adding: ruby_xrays/_opt_bucketdata_ORIGINAL_DATA_MASTER_DATA_CT_Ruby_Covid_data_ctxray_XR_Joshi Raghawendra U . - P00000102034_Adult Chest - 1 View_AP - 601_IM-0001-0001-0001.dcm (deflated 0%)\n",
      "  adding: ruby_xrays/_opt_bucketdata_ORIGINAL_DATA_MASTER_DATA_CT_Ruby_Covid_data_ctxray_XR_Kamthe Ramdas Anandrao . - P00000102745_Chest X Ray_PORTABLE - 1_IM-0001-0001-0001.dcm (deflated 0%)\n",
      "  adding: ruby_xrays/_opt_bucketdata_ORIGINAL_DATA_MASTER_DATA_CT_Ruby_Covid_data_ctxray_XR_Kamthe Ramdas Anandrao . - P00000102745_Chest X Ray_PORTABLE - 1_IM-0001-0001-0002.dcm (deflated 0%)\n",
      "  adding: ruby_xrays/_opt_bucketdata_ORIGINAL_DATA_MASTER_DATA_CT_Ruby_Covid_data_ctxray_XR_Shinde Shivaji Malhari . - 11125748_Chest X Ray_PORTABLE - 1_IM-0001-0001-0001.dcm (deflated 0%)\n",
      "  adding: ruby_xrays/_opt_bucketdata_ORIGINAL_DATA_MASTER_DATA_CT_Ruby_Covid_data_ctxray_XR_Shinde Shivaji Malhari . - 11125748_Chest X Ray_PORTABLE - 1_IM-0001-0001-0002.dcm (deflated 0%)\n",
      "  adding: ruby_xrays/_opt_bucketdata_ORIGINAL_DATA_MASTER_DATA_CT_Ruby_Covid_data_ctxray_XR_Barnagarwala  Moiz T . - P00000102540_Chest X Ray_PORTABLE - 1_IM-0001-0001-0001.dcm (deflated 0%)\n",
      "  adding: ruby_xrays/_opt_bucketdata_ORIGINAL_DATA_MASTER_DATA_CT_Ruby_Covid_data_ctxray_XR_Barnagarwala  Moiz T . - P00000102540_Chest X Ray_PORTABLE - 1_IM-0001-0001-0004.dcm (deflated 0%)\n",
      "  adding: ruby_xrays/_opt_bucketdata_ORIGINAL_DATA_MASTER_DATA_CT_Ruby_Covid_data_ctxray_XR_Barnagarwala  Moiz T . - P00000102540_Chest X Ray_PORTABLE - 1_IM-0001-0001-0003.dcm (deflated 0%)\n",
      "  adding: ruby_xrays/_opt_bucketdata_ORIGINAL_DATA_MASTER_DATA_CT_Ruby_Covid_data_ctxray_XR_Barnagarwala  Moiz T . - P00000102540_Chest X Ray_PORTABLE - 1_IM-0001-0001-0005.dcm (deflated 0%)\n",
      "  adding: ruby_xrays/_opt_bucketdata_ORIGINAL_DATA_MASTER_DATA_CT_Ruby_Covid_data_ctxray_XR_Barnagarwala  Moiz T . - P00000102540_Chest X Ray_PORTABLE - 1_IM-0001-0001-0007.dcm (deflated 0%)\n",
      "  adding: ruby_xrays/_opt_bucketdata_ORIGINAL_DATA_MASTER_DATA_CT_Ruby_Covid_data_ctxray_XR_Barnagarwala  Moiz T . - P00000102540_Chest X Ray_PORTABLE - 1_IM-0001-0001-0002.dcm (deflated 0%)\n",
      "  adding: ruby_xrays/_opt_bucketdata_ORIGINAL_DATA_MASTER_DATA_CT_Ruby_Covid_data_ctxray_XR_Barnagarwala  Moiz T . - P00000102540_Chest X Ray_PORTABLE - 1_IM-0001-0001-0006.dcm (deflated 0%)\n",
      "  adding: ruby_xrays/_opt_bucketdata_ORIGINAL_DATA_MASTER_DATA_CT_Ruby_Covid_data_ctxray_XR_Bhandare  Radhakishan T - P00000106429_Port - Cxr_AP - 616_IM-0001-0001-0001.dcm (deflated 0%)\n",
      "  adding: ruby_xrays/_opt_bucketdata_ORIGINAL_DATA_MASTER_DATA_CT_Ruby_Covid_data_ctxray_XR_Gadve Mahendra S . - P00000112179_Chest X Ray_PORTABLE - 1_IM-0001-0001-0001.dcm (deflated 0%)\n",
      "  adding: ruby_xrays/_opt_bucketdata_ORIGINAL_DATA_MASTER_DATA_CT_Ruby_Covid_data_ctxray_XR_Michael Kharat . - P00000095863_Chest X Ray_PORTABLE - 1_IM-0001-0001-0001.dcm (deflated 0%)\n",
      "  adding: ruby_xrays/_opt_bucketdata_ORIGINAL_DATA_MASTER_DATA_CT_Ruby_Covid_data_ctxray_XR_Sawant Shankar Sopan . - 11076741_Chest X Ray_PORTABLE - 1_IM-0001-0001-0002.dcm (deflated 0%)\n",
      "  adding: ruby_xrays/_opt_bucketdata_ORIGINAL_DATA_MASTER_DATA_CT_Ruby_Covid_data_ctxray_XR_Sawant Shankar Sopan . - 11076741_Chest X Ray_PORTABLE - 1_IM-0001-0001-0003.dcm (deflated 0%)\n",
      "  adding: ruby_xrays/_opt_bucketdata_ORIGINAL_DATA_MASTER_DATA_CT_Ruby_Covid_data_ctxray_XR_Sawant Shankar Sopan . - 11076741_Chest X Ray_PORTABLE - 1_IM-0001-0001-0001.dcm (deflated 0%)\n",
      "  adding: ruby_xrays/_opt_bucketdata_ORIGINAL_DATA_MASTER_DATA_CT_Ruby_Covid_data_ctxray_XR_Vyas Jigar . - 000011582525_Chest X Ray_PORTABLE - 1_IM-0001-0001-0001.dcm (deflated 0%)\n",
      "  adding: ruby_xrays/_opt_bucketdata_ORIGINAL_DATA_MASTER_DATA_CT_Ruby_Covid_data_ctxray_XR_Jayram B.Chawria     (-) . - 10987355_Chest Pa_CHEST PA - 1_IM-0001-0001-0001.dcm (deflated 0%)\n",
      "  adding: ruby_xrays/_opt_bucketdata_ORIGINAL_DATA_MASTER_DATA_CT_Ruby_Covid_data_ctxray_XR_Hinge Arvind Bhikaji . - 10144469_Adult Chest - 1 View_PA - 2_IM-0001-0001-0001.dcm (deflated 0%)\n",
      "  adding: ruby_xrays/_opt_bucketdata_ORIGINAL_DATA_MASTER_DATA_CT_Ruby_Covid_data_ctxray_XR_Hinge Arvind Bhikaji . - 10144469_Adult Chest - 1 View_PA - 2_IM-0001-0001-0002.dcm (deflated 0%)\n",
      "  adding: ruby_xrays/_opt_bucketdata_ORIGINAL_DATA_MASTER_DATA_CT_Ruby_Covid_data_ctxray_XR_Hinge Arvind Bhikaji . - 10144469_Adult Chest - 1 View_AP - 2_IM-0001-0001-0002.dcm (deflated 0%)\n",
      "  adding: ruby_xrays/_opt_bucketdata_ORIGINAL_DATA_MASTER_DATA_CT_Ruby_Covid_data_ctxray_XR_Dongardive C G - 1117494_Chest X Ray_AP - 1_IM-0001-0001-0001.dcm (deflated 0%)\n",
      "  adding: ruby_xrays/_opt_bucketdata_ORIGINAL_DATA_MASTER_DATA_CT_Ruby_Covid_data_ctxray_XR_Hinge Arvind Bhikaji . - 10144469_Adult Chest - 1 View_AP - 2_IM-0001-0001-0001.dcm (deflated 0%)\n",
      "  adding: ruby_xrays/_opt_bucketdata_ORIGINAL_DATA_MASTER_DATA_CT_Ruby_Covid_data_ctxray_XR_Hinge Arvind Bhikaji . - 10144469_Adult Chest - 1 View_PA - 5_IM-0001-0001-0001.dcm (deflated 0%)\n",
      "  adding: ruby_xrays/_opt_bucketdata_ORIGINAL_DATA_MASTER_DATA_CT_Ruby_Covid_data_ctxray_XR_Hinge Arvind Bhikaji . - 10144469_Adult Chest - 1 View_PA - 5_IM-0001-0001-0002.dcm (deflated 0%)\n",
      "  adding: ruby_xrays/_opt_bucketdata_ORIGINAL_DATA_MASTER_DATA_CT_Ruby_Covid_data_ctxray_XR_Hinge Arvind Bhikaji . - 10144469_Adult Chest - 1 View_PA - 1_IM-0001-0001-0002.dcm (deflated 0%)\n",
      "  adding: ruby_xrays/_opt_bucketdata_ORIGINAL_DATA_MASTER_DATA_CT_Ruby_Covid_data_ctxray_XR_Hinge Arvind Bhikaji . - 10144469_Adult Chest - 1 View_PA - 1_IM-0001-0001-0005.dcm (deflated 0%)\n",
      "  adding: ruby_xrays/_opt_bucketdata_ORIGINAL_DATA_MASTER_DATA_CT_Ruby_Covid_data_ctxray_XR_Hinge Arvind Bhikaji . - 10144469_Adult Chest - 1 View_PA - 1_IM-0001-0001-0001.dcm (deflated 0%)\n",
      "  adding: ruby_xrays/_opt_bucketdata_ORIGINAL_DATA_MASTER_DATA_CT_Ruby_Covid_data_ctxray_XR_Hinge Arvind Bhikaji . - 10144469_Adult Chest - 1 View_PA - 1_IM-0001-0001-0004.dcm (deflated 0%)\n",
      "  adding: ruby_xrays/_opt_bucketdata_ORIGINAL_DATA_MASTER_DATA_CT_Ruby_Covid_data_ctxray_XR_Hinge Arvind Bhikaji . - 10144469_Adult Chest - 1 View_PA - 1_IM-0001-0001-0006.dcm (deflated 0%)\n",
      "  adding: ruby_xrays/_opt_bucketdata_ORIGINAL_DATA_MASTER_DATA_CT_Ruby_Covid_data_ctxray_XR_Hinge Arvind Bhikaji . - 10144469_Adult Chest - 1 View_PA - 1_IM-0001-0001-0008.dcm (deflated 0%)\n",
      "  adding: ruby_xrays/_opt_bucketdata_ORIGINAL_DATA_MASTER_DATA_CT_Ruby_Covid_data_ctxray_XR_Hinge Arvind Bhikaji . - 10144469_Adult Chest - 1 View_PA - 1_IM-0001-0001-0007.dcm (deflated 0%)\n",
      "  adding: ruby_xrays/_opt_bucketdata_ORIGINAL_DATA_MASTER_DATA_CT_Ruby_Covid_data_ctxray_XR_Hinge Arvind Bhikaji . - 10144469_Adult Chest - 1 View_PA - 1_IM-0001-0001-0003.dcm (deflated 0%)\n",
      "  adding: ruby_xrays/_opt_bucketdata_ORIGINAL_DATA_MASTER_DATA_CT_Ruby_Covid_data_ctxray_XR_Hinge Arvind Bhikaji . - 10144469_Chest X Ray_PORTABLE - 1_IM-0001-0003-0001.dcm (deflated 0%)\n",
      "  adding: ruby_xrays/_opt_bucketdata_ORIGINAL_DATA_MASTER_DATA_CT_Ruby_Covid_data_ctxray_XR_Hinge Arvind Bhikaji . - 10144469_Chest X Ray_PORTABLE - 1_IM-0001-0001-0002.dcm (deflated 0%)\n",
      "  adding: ruby_xrays/_opt_bucketdata_ORIGINAL_DATA_MASTER_DATA_CT_Ruby_Covid_data_ctxray_XR_Hinge Arvind Bhikaji . - 10144469_Chest X Ray_PORTABLE - 1_IM-0001-0001-0006.dcm (deflated 0%)\n",
      "  adding: ruby_xrays/_opt_bucketdata_ORIGINAL_DATA_MASTER_DATA_CT_Ruby_Covid_data_ctxray_XR_Hinge Arvind Bhikaji . - 10144469_Chest X Ray_PORTABLE - 1_IM-0001-0001-0003.dcm (deflated 0%)\n",
      "  adding: ruby_xrays/_opt_bucketdata_ORIGINAL_DATA_MASTER_DATA_CT_Ruby_Covid_data_ctxray_XR_Hinge Arvind Bhikaji . - 10144469_Chest X Ray_PORTABLE - 1_IM-0001-0001-0005.dcm (deflated 0%)\n",
      "  adding: ruby_xrays/_opt_bucketdata_ORIGINAL_DATA_MASTER_DATA_CT_Ruby_Covid_data_ctxray_XR_Hinge Arvind Bhikaji . - 10144469_Chest X Ray_PORTABLE - 1_IM-0001-0001-0004.dcm (deflated 0%)\n",
      "  adding: ruby_xrays/_opt_bucketdata_ORIGINAL_DATA_MASTER_DATA_CT_Ruby_Covid_data_ctxray_XR_Hinge Arvind Bhikaji . - 10144469_Chest X Ray_PORTABLE - 1_IM-0001-0001-0001.dcm (deflated 0%)\n",
      "  adding: ruby_xrays/_opt_bucketdata_ORIGINAL_DATA_MASTER_DATA_CT_Ruby_Covid_data_ctxray_XR_Hinge Arvind Bhikaji . - 10144469_Chest X Ray_PORTABLE - 1_IM-0001-0005-0001.dcm (deflated 0%)\n",
      "  adding: ruby_xrays/_opt_bucketdata_ORIGINAL_DATA_MASTER_DATA_CT_Ruby_Covid_data_ctxray_XR_Hinge Arvind Bhikaji . - 10144469_Chest X Ray_PA - 798_IM-0001-0001-0001.dcm (deflated 0%)\n",
      "  adding: ruby_xrays/_opt_bucketdata_ORIGINAL_DATA_MASTER_DATA_CT_Ruby_Covid_data_ctxray_XR_Hinge Arvind Bhikaji . - 10144469_Port - Cxr_AP - 3019_IM-0001-0001-0001.dcm (deflated 0%)\n",
      "  adding: ruby_xrays/_opt_bucketdata_ORIGINAL_DATA_MASTER_DATA_CT_Ruby_Covid_data_ctxray_XR_Hinge Arvind Bhikaji . - 10144469_Port - Cxr_AP - 5411_IM-0001-0001-0001.dcm (deflated 0%)\n",
      "  adding: ruby_xrays/_opt_bucketdata_ORIGINAL_DATA_MASTER_DATA_CT_Ruby_Covid_data_ctxray_XR_Hinge Arvind Bhikaji . - 10144469_Pelvis - 1 View_AP - 1_IM-0001-0001-0002.dcm (deflated 0%)\n",
      "  adding: ruby_xrays/_opt_bucketdata_ORIGINAL_DATA_MASTER_DATA_CT_Ruby_Covid_data_ctxray_XR_Hinge Arvind Bhikaji . - 10144469_Pelvis - 1 View_AP - 1_IM-0001-0001-0001.dcm (deflated 0%)\n",
      "  adding: ruby_xrays/_opt_bucketdata_ORIGINAL_DATA_MASTER_DATA_CT_Ruby_Covid_data_ctxray_XR_Mahajan Sachin Baban . - P00000108071_Chest X Ray_PORTABLE - 1_IM-0001-0001-0001.dcm (deflated 0%)\n",
      "  adding: ruby_xrays/_opt_bucketdata_ORIGINAL_DATA_MASTER_DATA_CT_Ruby_Covid_data_ctxray_XR_Pawar Siddhant . - 000011559145_Chest X Ray_PORTABLE - 1_IM-0001-0001-0001.dcm (deflated 0%)\n",
      "  adding: ruby_xrays/_opt_bucketdata_ORIGINAL_DATA_MASTER_DATA_CT_Ruby_Covid_data_ctxray_XR_Bhopale Daniel . - P00000108570_Chest X Ray_PORTABLE - 1_IM-0001-0001-0001.dcm (deflated 0%)\n",
      "  adding: ruby_xrays/_opt_bucketdata_ORIGINAL_DATA_MASTER_DATA_CT_Ruby_Covid_data_ctxray_XR_Bhopale Daniel . - P00000108570_Chest X Ray_PA - 644_IM-0001-0001-0001.dcm (deflated 0%)\n",
      "  adding: ruby_xrays/_opt_bucketdata_ORIGINAL_DATA_MASTER_DATA_CT_Ruby_Covid_data_ctxray_XR_Chaukate Vijay D . - P00000104986_Chest X Ray_AP - 1_IM-0001-0001-0004.dcm (deflated 0%)\n",
      "  adding: ruby_xrays/_opt_bucketdata_ORIGINAL_DATA_MASTER_DATA_CT_Ruby_Covid_data_ctxray_XR_Chaukate Vijay D . - P00000104986_Chest X Ray_AP - 1_IM-0001-0001-0003.dcm (deflated 0%)\n",
      "  adding: ruby_xrays/_opt_bucketdata_ORIGINAL_DATA_MASTER_DATA_CT_Ruby_Covid_data_ctxray_XR_Chaukate Vijay D . - P00000104986_Chest X Ray_AP - 1_IM-0001-0001-0001.dcm (deflated 0%)\n",
      "  adding: ruby_xrays/_opt_bucketdata_ORIGINAL_DATA_MASTER_DATA_CT_Ruby_Covid_data_ctxray_XR_Chaukate Vijay D . - P00000104986_Chest X Ray_AP - 1_IM-0001-0001-0002.dcm (deflated 0%)\n",
      "  adding: ruby_xrays/_opt_bucketdata_ORIGINAL_DATA_MASTER_DATA_CT_Ruby_Covid_data_ctxray_XR_Chaukate Vijay D . - P00000104986_Chest X Ray_AP - 2_IM-0001-0001-0001.dcm (deflated 0%)\n",
      "  adding: ruby_xrays/_opt_bucketdata_ORIGINAL_DATA_MASTER_DATA_CT_Ruby_Covid_data_ctxray_XR_Chaukate Vijay D . - P00000104986_Chest X Ray_AP - 2_IM-0001-0001-0002.dcm (deflated 0%)\n",
      "  adding: ruby_xrays/_opt_bucketdata_ORIGINAL_DATA_MASTER_DATA_CT_Ruby_Covid_data_ctxray_XR_Chaukate Vijay D . - P00000104986_Chest X Ray_PA - 601_IM-0001-0001-0001.dcm (deflated 0%)\n",
      "  adding: ruby_xrays/_opt_bucketdata_ORIGINAL_DATA_MASTER_DATA_CT_Ruby_Covid_data_ctxray_XR_Chaukate Vijay D . - P00000104986_Chest X Ray_PORTABLE - 1_IM-0001-0001-0001.dcm (deflated 0%)\n",
      "  adding: ruby_xrays/_opt_bucketdata_ORIGINAL_DATA_MASTER_DATA_CT_Ruby_Covid_data_ctxray_XR_Chaukate Vijay D . - P00000104986_Chest X Ray_PA - 621_IM-0001-0001-0001.dcm (deflated 0%)\n",
      "  adding: ruby_xrays/_opt_bucketdata_ORIGINAL_DATA_MASTER_DATA_CT_Ruby_Covid_data_ctxray_XR_Chaukate Vijay D . - P00000104986_Chest X Ray_unnamed - 1_IM-0001-0001-0001.dcm (deflated 0%)\n",
      "  adding: ruby_xrays/_opt_bucketdata_ORIGINAL_DATA_MASTER_DATA_CT_Ruby_Covid_data_ctxray_XR_Chaukate Vijay D . - P00000104986_Chest X Ray_AP - 3_IM-0001-0001-0002.dcm (deflated 0%)\n",
      "  adding: ruby_xrays/_opt_bucketdata_ORIGINAL_DATA_MASTER_DATA_CT_Ruby_Covid_data_ctxray_XR_Chaukate Vijay D . - P00000104986_Chest X Ray_AP - 3_IM-0001-0001-0001.dcm (deflated 0%)\n",
      "  adding: ruby_xrays/_opt_bucketdata_ORIGINAL_DATA_MASTER_DATA_CT_Ruby_Covid_data_ctxray_XR_Chaukate Vijay D . - P00000104986_Adult Chest - 1 View_PA - 619_IM-0001-0001-0001.dcm (deflated 0%)\n",
      "  adding: ruby_xrays/_opt_bucketdata_ORIGINAL_DATA_MASTER_DATA_CT_Ruby_Covid_data_ctxray_XR_Chaukate Vijay D . - P00000104986_Port - Cxr_AP - 616_IM-0001-0001-0001.dcm (deflated 0%)\n",
      "  adding: ruby_xrays/_opt_bucketdata_ORIGINAL_DATA_MASTER_DATA_CT_Ruby_Covid_data_ctxray_XR_Chawariya Khatun Badalu . - 000011582090_Adult Chest - 1 View_PA - 599_IM-0001-0001-0001.dcm (deflated 0%)\n",
      "  adding: ruby_xrays/_opt_bucketdata_ORIGINAL_DATA_MASTER_DATA_CT_Ruby_Covid_data_ctxray_XR_Chawariya Khatun Badalu . - 000011582090_Adult Chest - 1 View_PA - 599_IM-0001-0001-0002.dcm (deflated 0%)\n",
      "  adding: ruby_xrays/_opt_bucketdata_ORIGINAL_DATA_MASTER_DATA_CT_Ruby_Covid_data_ctxray_XR_Chawariya Khatun Badalu . - 000011582090_Adult Chest - 1 View_PA - 600_IM-0001-0001-0001.dcm (deflated 0%)\n",
      "  adding: ruby_xrays/_opt_bucketdata_ORIGINAL_DATA_MASTER_DATA_CT_Ruby_Covid_data_ctxray_XR_Chawariya Khatun Badalu . - 000011582090_Adult Chest - 1 View_PA - 601_IM-0001-0001-0001.dcm (deflated 0%)\n",
      "  adding: ruby_xrays/_opt_bucketdata_ORIGINAL_DATA_MASTER_DATA_CT_Ruby_Covid_data_ctxray_XR_Chawariya Khatun Badalu . - 000011582090_Adult Chest - 1 View_AP - 601_IM-0001-0001-0001.dcm (deflated 0%)\n",
      "  adding: ruby_xrays/_opt_bucketdata_ORIGINAL_DATA_MASTER_DATA_CT_Ruby_Covid_data_ctxray_XR_Chawariya Khatun Badalu . - 000011582090_Adult Chest - 1 View_PA - 608_IM-0001-0001-0001.dcm (deflated 0%)\n",
      "  adding: ruby_xrays/_opt_bucketdata_ORIGINAL_DATA_MASTER_DATA_CT_Ruby_Covid_data_ctxray_XR_Chawariya Khatun Badalu . - 000011582090_Adult Chest - 1 View_PA - 598_IM-0001-0001-0001.dcm (deflated 0%)\n",
      "  adding: ruby_xrays/_opt_bucketdata_ORIGINAL_DATA_MASTER_DATA_CT_Ruby_Covid_data_ctxray_XR_Chawariya Khatun Badalu . - 000011582090_Chest X Ray_PORTABLE - 1_IM-0001-0001-0002.dcm (deflated 0%)\n",
      "  adding: ruby_xrays/_opt_bucketdata_ORIGINAL_DATA_MASTER_DATA_CT_Ruby_Covid_data_ctxray_XR_Chawariya Khatun Badalu . - 000011582090_Chest X Ray_PORTABLE - 1_IM-0001-0001-0003.dcm (deflated 0%)\n",
      "  adding: ruby_xrays/_opt_bucketdata_ORIGINAL_DATA_MASTER_DATA_CT_Ruby_Covid_data_ctxray_XR_Chawariya Khatun Badalu . - 000011582090_Chest X Ray_PORTABLE - 1_IM-0001-0001-0001.dcm (deflated 0%)\n",
      "  adding: ruby_xrays/_opt_bucketdata_ORIGINAL_DATA_MASTER_DATA_CT_Ruby_Covid_data_ctxray_XR_Chawariya Khatun Badalu . - 000011582090_Chest X Ray_PA - 619_IM-0001-0001-0001.dcm (deflated 0%)\n",
      "  adding: ruby_xrays/_opt_bucketdata_ORIGINAL_DATA_MASTER_DATA_CT_Ruby_Covid_data_ctxray_XR_Chawariya Khatun Badalu . - 000011582090_Chest X Ray_PA - 617_IM-0001-0001-0002.dcm (deflated 0%)\n",
      "  adding: ruby_xrays/_opt_bucketdata_ORIGINAL_DATA_MASTER_DATA_CT_Ruby_Covid_data_ctxray_XR_Chawariya Khatun Badalu . - 000011582090_Chest X Ray_PA - 617_IM-0001-0001-0001.dcm (deflated 0%)\n",
      "  adding: ruby_xrays/_opt_bucketdata_ORIGINAL_DATA_MASTER_DATA_CT_Ruby_Covid_data_ctxray_XR_Chawariya Khatun Badalu . - 000011582090_Chest X Ray_PA - 616_IM-0001-0001-0001.dcm (deflated 0%)\n",
      "  adding: ruby_xrays/_opt_bucketdata_ORIGINAL_DATA_MASTER_DATA_CT_Ruby_Covid_data_ctxray_XR_Chawariya Khatun Badalu . - 000011582090_Chest X Ray_PA - 599_IM-0001-0001-0001.dcm (deflated 0%)\n",
      "  adding: ruby_xrays/_opt_bucketdata_ORIGINAL_DATA_MASTER_DATA_CT_Ruby_Covid_data_ctxray_XR_Chawariya Khatun Badalu . - 000011582090_Port - Cxr_AP - 602_IM-0001-0001-0001.dcm (deflated 0%)\n"
     ]
    },
    {
     "name": "stdout",
     "output_type": "stream",
     "text": [
      "  adding: ruby_xrays/_opt_bucketdata_ORIGINAL_DATA_MASTER_DATA_CT_Ruby_Covid_data_ctxray_XR_Chawariya Khatun Badalu . - 000011582090_Port - Cxr_AP - 600_IM-0001-0001-0001.dcm (deflated 0%)\n",
      "  adding: ruby_xrays/_opt_bucketdata_ORIGINAL_DATA_MASTER_DATA_CT_Ruby_Covid_data_ctxray_XR_Kuvalekar Shridhar H-Ntu-202 - P00000105312_Unnamed_unnamed - 1_IM-0001-0001-0001.dcm (deflated 0%)\n",
      "  adding: ruby_xrays/_opt_bucketdata_ORIGINAL_DATA_MASTER_DATA_CT_Ruby_Covid_data_ctxray_XR_Lande Sagar Prakash . - P00000112164_Chest X Ray_unnamed - 1_IM-0001-0001-0001.dcm (deflated 0%)\n",
      "  adding: ruby_xrays/_opt_bucketdata_ORIGINAL_DATA_MASTER_DATA_CT_Ruby_Covid_data_ctxray_XR_Lande Sagar Prakash . - P00000112164_Chest X Ray_unnamed - 1_IM-0001-0001-0002.dcm (deflated 0%)\n",
      "  adding: ruby_xrays/_opt_bucketdata_ORIGINAL_DATA_MASTER_DATA_CT_Ruby_Covid_data_ctxray_XR_Lande Sagar Prakash . - P00000112164_Chest X Ray_unnamed - 2_IM-0001-0001-0001.dcm (deflated 0%)\n",
      "  adding: ruby_xrays/_opt_bucketdata_ORIGINAL_DATA_MASTER_DATA_CT_Ruby_Covid_data_ctxray_XR_Sangade Rajendra Dattu . - P00000106880_Chest X Ray_PORTABLE - 1_IM-0001-0001-0001.dcm (deflated 0%)\n",
      "  adding: ruby_xrays/_opt_bucketdata_ORIGINAL_DATA_MASTER_DATA_CT_Ruby_Covid_data_ctxray_XR_Sangade Rajendra Dattu . - P00000106880_Chest X Ray_PORTABLE - 1_IM-0001-0001-0002.dcm (deflated 0%)\n",
      "  adding: ruby_xrays/_opt_bucketdata_ORIGINAL_DATA_MASTER_DATA_CT_Ruby_Covid_data_ctxray_XR_Sangade Rajendra Dattu . - P00000106880_Chest X Ray_PORTABLE - 1_IM-0001-0001-0003.dcm (deflated 0%)\n",
      "  adding: ruby_xrays/_opt_bucketdata_ORIGINAL_DATA_MASTER_DATA_CT_Ruby_Covid_data_ctxray_XR_Sangade Rajendra Dattu . - P00000106880_Chest X Ray_PORTABLE - 1_IM-0001-0002-0001.dcm (deflated 0%)\n",
      "  adding: ruby_xrays/_opt_bucketdata_ORIGINAL_DATA_MASTER_DATA_CT_Ruby_Covid_data_ctxray_XR_Verulkar Sunil Vasant . - P00000111807_Adult Chest - 1 View_PA - 644_IM-0001-0001-0001.dcm (deflated 0%)\n",
      "  adding: ruby_xrays/_opt_bucketdata_ORIGINAL_DATA_MASTER_DATA_CT_Ruby_Covid_data_ctxray_XR_Verulkar Sunil Vasant . - P00000111807_Chest X Ray_AP - 645_IM-0001-0001-0001.dcm (deflated 0%)\n",
      "  adding: ruby_xrays/_opt_bucketdata_ORIGINAL_DATA_MASTER_DATA_CT_Ruby_Covid_data_ctxray_XR_Verulkar Sunil Vasant . - P00000111807_Port - Cxr_AP - 622_IM-0001-0001-0001.dcm (deflated 0%)\n",
      "  adding: ruby_xrays/_opt_bucketdata_ORIGINAL_DATA_MASTER_DATA_CT_Ruby_Covid_data_ctxray_XR_Anil Surajmal Agrawal . - 000011581694_Chest X Ray_PA - 599_IM-0001-0001-0002.dcm (deflated 0%)\n",
      "  adding: ruby_xrays/_opt_bucketdata_ORIGINAL_DATA_MASTER_DATA_CT_Ruby_Covid_data_ctxray_XR_Anil Surajmal Agrawal . - 000011581694_Chest X Ray_PA - 599_IM-0001-0001-0001.dcm (deflated 0%)\n",
      "  adding: ruby_xrays/_opt_bucketdata_ORIGINAL_DATA_MASTER_DATA_CT_Ruby_Covid_data_ctxray_XR_Anil Surajmal Agrawal . - 000011581694_Chest X Ray_PORTABLE - 1_IM-0001-0001-0001.dcm (deflated 0%)\n",
      "  adding: ruby_xrays/_opt_bucketdata_ORIGINAL_DATA_MASTER_DATA_CT_Ruby_Covid_data_ctxray_XR_Anil Surajmal Agrawal . - 000011581694_Chest X Ray_PORTABLE - 1_IM-0001-0001-0013.dcm (deflated 0%)\n",
      "  adding: ruby_xrays/_opt_bucketdata_ORIGINAL_DATA_MASTER_DATA_CT_Ruby_Covid_data_ctxray_XR_Anil Surajmal Agrawal . - 000011581694_Chest X Ray_PORTABLE - 1_IM-0001-0001-0005.dcm (deflated 0%)\n",
      "  adding: ruby_xrays/_opt_bucketdata_ORIGINAL_DATA_MASTER_DATA_CT_Ruby_Covid_data_ctxray_XR_Anil Surajmal Agrawal . - 000011581694_Chest X Ray_PORTABLE - 1_IM-0001-0001-0004.dcm (deflated 0%)\n",
      "  adding: ruby_xrays/_opt_bucketdata_ORIGINAL_DATA_MASTER_DATA_CT_Ruby_Covid_data_ctxray_XR_Anil Surajmal Agrawal . - 000011581694_Chest X Ray_PORTABLE - 1_IM-0001-0001-0010.dcm (deflated 0%)\n",
      "  adding: ruby_xrays/_opt_bucketdata_ORIGINAL_DATA_MASTER_DATA_CT_Ruby_Covid_data_ctxray_XR_Anil Surajmal Agrawal . - 000011581694_Chest X Ray_PORTABLE - 1_IM-0001-0001-0002.dcm (deflated 0%)\n",
      "  adding: ruby_xrays/_opt_bucketdata_ORIGINAL_DATA_MASTER_DATA_CT_Ruby_Covid_data_ctxray_XR_Anil Surajmal Agrawal . - 000011581694_Chest X Ray_PORTABLE - 1_IM-0001-0001-0016.dcm (deflated 0%)\n",
      "  adding: ruby_xrays/_opt_bucketdata_ORIGINAL_DATA_MASTER_DATA_CT_Ruby_Covid_data_ctxray_XR_Anil Surajmal Agrawal . - 000011581694_Chest X Ray_PORTABLE - 1_IM-0001-0001-0006.dcm (deflated 0%)\n",
      "  adding: ruby_xrays/_opt_bucketdata_ORIGINAL_DATA_MASTER_DATA_CT_Ruby_Covid_data_ctxray_XR_Anil Surajmal Agrawal . - 000011581694_Chest X Ray_PORTABLE - 1_IM-0001-0001-0007.dcm (deflated 0%)\n",
      "  adding: ruby_xrays/_opt_bucketdata_ORIGINAL_DATA_MASTER_DATA_CT_Ruby_Covid_data_ctxray_XR_Anil Surajmal Agrawal . - 000011581694_Chest X Ray_PORTABLE - 1_IM-0001-0001-0015.dcm (deflated 0%)\n",
      "  adding: ruby_xrays/_opt_bucketdata_ORIGINAL_DATA_MASTER_DATA_CT_Ruby_Covid_data_ctxray_XR_Anil Surajmal Agrawal . - 000011581694_Chest X Ray_PORTABLE - 1_IM-0001-0001-0020.dcm (deflated 0%)\n",
      "  adding: ruby_xrays/_opt_bucketdata_ORIGINAL_DATA_MASTER_DATA_CT_Ruby_Covid_data_ctxray_XR_Anil Surajmal Agrawal . - 000011581694_Chest X Ray_PORTABLE - 1_IM-0001-0001-0008.dcm (deflated 0%)\n",
      "  adding: ruby_xrays/_opt_bucketdata_ORIGINAL_DATA_MASTER_DATA_CT_Ruby_Covid_data_ctxray_XR_Anil Surajmal Agrawal . - 000011581694_Chest X Ray_PORTABLE - 1_IM-0001-0001-0014.dcm (deflated 0%)\n",
      "  adding: ruby_xrays/_opt_bucketdata_ORIGINAL_DATA_MASTER_DATA_CT_Ruby_Covid_data_ctxray_XR_Anil Surajmal Agrawal . - 000011581694_Chest X Ray_PORTABLE - 1_IM-0001-0001-0009.dcm (deflated 0%)\n",
      "  adding: ruby_xrays/_opt_bucketdata_ORIGINAL_DATA_MASTER_DATA_CT_Ruby_Covid_data_ctxray_XR_Anil Surajmal Agrawal . - 000011581694_Chest X Ray_PORTABLE - 1_IM-0001-0001-0003.dcm (deflated 0%)\n",
      "  adding: ruby_xrays/_opt_bucketdata_ORIGINAL_DATA_MASTER_DATA_CT_Ruby_Covid_data_ctxray_XR_Anil Surajmal Agrawal . - 000011581694_Chest X Ray_PORTABLE - 1_IM-0001-0001-0012.dcm (deflated 0%)\n",
      "  adding: ruby_xrays/_opt_bucketdata_ORIGINAL_DATA_MASTER_DATA_CT_Ruby_Covid_data_ctxray_XR_Anil Surajmal Agrawal . - 000011581694_Chest X Ray_PORTABLE - 1_IM-0001-0001-0017.dcm (deflated 0%)\n",
      "  adding: ruby_xrays/_opt_bucketdata_ORIGINAL_DATA_MASTER_DATA_CT_Ruby_Covid_data_ctxray_XR_Anil Surajmal Agrawal . - 000011581694_Chest X Ray_PORTABLE - 1_IM-0001-0001-0019.dcm (deflated 0%)\n",
      "  adding: ruby_xrays/_opt_bucketdata_ORIGINAL_DATA_MASTER_DATA_CT_Ruby_Covid_data_ctxray_XR_Anil Surajmal Agrawal . - 000011581694_Chest X Ray_PORTABLE - 1_IM-0001-0001-0011.dcm (deflated 0%)\n",
      "  adding: ruby_xrays/_opt_bucketdata_ORIGINAL_DATA_MASTER_DATA_CT_Ruby_Covid_data_ctxray_XR_Anil Surajmal Agrawal . - 000011581694_Chest X Ray_PORTABLE - 1_IM-0001-0001-0018.dcm (deflated 0%)\n",
      "  adding: ruby_xrays/_opt_bucketdata_ORIGINAL_DATA_MASTER_DATA_CT_Ruby_Covid_data_ctxray_XR_Anil Surajmal Agrawal . - 000011581694_Chest X Ray_unnamed - 1_IM-0001-0001-0001.dcm (deflated 0%)\n",
      "  adding: ruby_xrays/_opt_bucketdata_ORIGINAL_DATA_MASTER_DATA_CT_Ruby_Covid_data_ctxray_XR_Bora Khushalchand Manikchand . - 000011582686_Chest X Ray_PORTABLE - 1_IM-0001-0001-0001.dcm (deflated 0%)\n",
      "  adding: ruby_xrays/_opt_bucketdata_ORIGINAL_DATA_MASTER_DATA_CT_Ruby_Covid_data_ctxray_XR_Naik Aslam Sayed . - 000011582462_Chest X Ray_PA - 618_IM-0001-0001-0001.dcm (deflated 0%)\n",
      "  adding: ruby_xrays/_opt_bucketdata_ORIGINAL_DATA_MASTER_DATA_CT_Ruby_Covid_data_ctxray_XR_Bora Khushalchand Manikchand . - 000011582686_Chest X Ray_PORTABLE - 1_IM-0001-0001-0003.dcm (deflated 0%)\n",
      "  adding: ruby_xrays/_opt_bucketdata_ORIGINAL_DATA_MASTER_DATA_CT_Ruby_Covid_data_ctxray_XR_Bora Khushalchand Manikchand . - 000011582686_Chest X Ray_PORTABLE - 1_IM-0001-0001-0002.dcm (deflated 0%)\n",
      "  adding: ruby_xrays/_opt_bucketdata_ORIGINAL_DATA_MASTER_DATA_CT_Ruby_Covid_data_ctxray_XR_Darade Nayna Umesh . - 000011582809_Chest X Ray_PORTABLE - 1_IM-0001-0001-0001.dcm (deflated 0%)\n",
      "  adding: ruby_xrays/_opt_bucketdata_ORIGINAL_DATA_MASTER_DATA_CT_Ruby_Covid_data_ctxray_XR_Darade Nayna Umesh . - 000011582809_Chest X Ray_PORTABLE - 1_IM-0001-0001-0002.dcm (deflated 0%)\n",
      "  adding: ruby_xrays/_opt_bucketdata_ORIGINAL_DATA_MASTER_DATA_CT_Ruby_Covid_data_ctxray_XR_Darade Nayna Umesh . - 000011582809_Chest X Ray_PORTABLE - 1_IM-0001-0001-0004.dcm (deflated 0%)\n",
      "  adding: ruby_xrays/_opt_bucketdata_ORIGINAL_DATA_MASTER_DATA_CT_Ruby_Covid_data_ctxray_XR_Darade Nayna Umesh . - 000011582809_Chest X Ray_PORTABLE - 1_IM-0001-0001-0003.dcm (deflated 0%)\n",
      "  adding: ruby_xrays/_opt_bucketdata_ORIGINAL_DATA_MASTER_DATA_CT_Ruby_Covid_data_ctxray_XR_Darade Nayna Umesh . - 000011582809_Chest X Ray_PORTABLE - 1_IM-0001-0001-0005.dcm (deflated 0%)\n"
     ]
    },
    {
     "name": "stdout",
     "output_type": "stream",
     "text": [
      "  adding: ruby_xrays/_opt_bucketdata_ORIGINAL_DATA_MASTER_DATA_CT_Ruby_Covid_data_ctxray_XR_Darade Nayna Umesh . - 000011582809_Chest X Ray_PORTABLE - 1_IM-0001-0001-0006.dcm (deflated 0%)\n",
      "  adding: ruby_xrays/_opt_bucketdata_ORIGINAL_DATA_MASTER_DATA_CT_Ruby_Covid_data_ctxray_XR_Darade Nayna Umesh . - 000011582809_Chest X Ray_PORTABLE - 1_IM-0001-0001-0007.dcm (deflated 0%)\n",
      "  adding: ruby_xrays/_opt_bucketdata_ORIGINAL_DATA_MASTER_DATA_CT_Ruby_Covid_data_ctxray_XR_Darade Nayna Umesh . - 000011582809_Chest X Ray_PORTABLE - 1_IM-0001-0001-0009.dcm (deflated 0%)\n",
      "  adding: ruby_xrays/_opt_bucketdata_ORIGINAL_DATA_MASTER_DATA_CT_Ruby_Covid_data_ctxray_XR_Darade Nayna Umesh . - 000011582809_Chest X Ray_PORTABLE - 1_IM-0001-0001-0008.dcm (deflated 0%)\n",
      "  adding: ruby_xrays/_opt_bucketdata_ORIGINAL_DATA_MASTER_DATA_CT_Ruby_Covid_data_ctxray_XR_Naik Aslam Sayed . - 000011582462_Adult Chest - 1 View_AP - 612_IM-0001-0001-0001.dcm (deflated 0%)\n",
      "  adding: ruby_xrays/_opt_bucketdata_ORIGINAL_DATA_MASTER_DATA_CT_Ruby_Covid_data_ctxray_XR_Naik Aslam Sayed . - 000011582462_Adult Chest - 1 View_AP - 611_IM-0001-0001-0001.dcm (deflated 0%)\n",
      "  adding: ruby_xrays/_opt_bucketdata_ORIGINAL_DATA_MASTER_DATA_CT_Ruby_Covid_data_ctxray_XR_Naik Aslam Sayed . - 000011582462_Adult Chest - 1 View_PA - 603_IM-0001-0001-0001.dcm (deflated 0%)\n",
      "  adding: ruby_xrays/_opt_bucketdata_ORIGINAL_DATA_MASTER_DATA_CT_Ruby_Covid_data_ctxray_XR_Naik Aslam Sayed . - 000011582462_Adult Chest - 1 View_PA - 599_IM-0001-0001-0002.dcm (deflated 0%)\n",
      "  adding: ruby_xrays/_opt_bucketdata_ORIGINAL_DATA_MASTER_DATA_CT_Ruby_Covid_data_ctxray_XR_Naik Aslam Sayed . - 000011582462_Adult Chest - 1 View_PA - 599_IM-0001-0001-0001.dcm (deflated 0%)\n",
      "  adding: ruby_xrays/_opt_bucketdata_ORIGINAL_DATA_MASTER_DATA_CT_Ruby_Covid_data_ctxray_XR_Naik Aslam Sayed . - 000011582462_Chest X Ray_PORTABLE - 1_IM-0001-0001-0001.dcm (deflated 0%)\n",
      "  adding: ruby_xrays/_opt_bucketdata_ORIGINAL_DATA_MASTER_DATA_CT_Ruby_Covid_data_ctxray_XR_Naik Aslam Sayed . - 000011582462_Port - Cxr_AP - 616_IM-0001-0001-0001.dcm (deflated 0%)\n",
      "  adding: ruby_xrays/_opt_bucketdata_ORIGINAL_DATA_MASTER_DATA_CT_Ruby_Covid_data_ctxray_XR_Rajkumar Bajaj . - 000011582319_Chest X Ray_PORTABLE - 1_IM-0001-0001-0003.dcm (deflated 0%)\n",
      "  adding: ruby_xrays/_opt_bucketdata_ORIGINAL_DATA_MASTER_DATA_CT_Ruby_Covid_data_ctxray_XR_Rajkumar Bajaj . - 000011582319_Chest X Ray_PORTABLE - 1_IM-0001-0001-0006.dcm (deflated 0%)\n",
      "  adding: ruby_xrays/_opt_bucketdata_ORIGINAL_DATA_MASTER_DATA_CT_Ruby_Covid_data_ctxray_XR_Rajkumar Bajaj . - 000011582319_Chest X Ray_PORTABLE - 1_IM-0001-0001-0004.dcm (deflated 0%)\n",
      "  adding: ruby_xrays/_opt_bucketdata_ORIGINAL_DATA_MASTER_DATA_CT_Ruby_Covid_data_ctxray_XR_Rajkumar Bajaj . - 000011582319_Chest X Ray_PORTABLE - 1_IM-0001-0001-0005.dcm (deflated 0%)\n",
      "  adding: ruby_xrays/_opt_bucketdata_ORIGINAL_DATA_MASTER_DATA_CT_Ruby_Covid_data_ctxray_XR_Rajkumar Bajaj . - 000011582319_Chest X Ray_PORTABLE - 1_IM-0001-0001-0002.dcm (deflated 0%)\n",
      "  adding: ruby_xrays/_opt_bucketdata_ORIGINAL_DATA_MASTER_DATA_CT_Ruby_Covid_data_ctxray_XR_Jadhav Jagannath A - P00000104149_Port - Cxr_AP - 644_IM-0001-0001-0001.dcm (deflated 0%)\n",
      "  adding: ruby_xrays/_opt_bucketdata_ORIGINAL_DATA_MASTER_DATA_CT_Ruby_Covid_data_ctxray_XR_Rajkumar Bajaj . - 000011582319_Chest X Ray_PORTABLE - 1_IM-0001-0002-0002.dcm (deflated 0%)\n",
      "  adding: ruby_xrays/_opt_bucketdata_ORIGINAL_DATA_MASTER_DATA_CT_Ruby_Covid_data_ctxray_XR_Rajkumar Bajaj . - 000011582319_Chest X Ray_PORTABLE - 1_IM-0001-0001-0001.dcm (deflated 0%)\n",
      "  adding: ruby_xrays/_opt_bucketdata_ORIGINAL_DATA_MASTER_DATA_CT_Ruby_Covid_data_ctxray_XR_Rajkumar Bajaj . - 000011582319_Chest X Ray_PORTABLE - 1_IM-0001-0002-0001.dcm (deflated 0%)\n",
      "  adding: ruby_xrays/_opt_bucketdata_ORIGINAL_DATA_MASTER_DATA_CT_Ruby_Covid_data_ctxray_XR_Rasal Ramchandra - 000011439513_Chest_Portable_PORTABLE - 1_IM-0001-0001-0001.dcm (deflated 0%)\n",
      "  adding: ruby_xrays/_opt_bucketdata_ORIGINAL_DATA_MASTER_DATA_CT_Ruby_Covid_data_ctxray_XR_Rasal Ramchandra - 000011439513_Chest_Portable_PORTABLE - 1_IM-0001-0003-0001.dcm (deflated 0%)\n",
      "  adding: ruby_xrays/_opt_bucketdata_ORIGINAL_DATA_MASTER_DATA_CT_Ruby_Covid_data_ctxray_XR_Rasal Ramchandra - 000011439513_Chest_Portable_PORTABLE - 1_IM-0001-0002-0001.dcm (deflated 0%)\n",
      "  adding: ruby_xrays/_opt_bucketdata_ORIGINAL_DATA_MASTER_DATA_CT_Ruby_Covid_data_ctxray_XR_Rasal Ramchandra - 000011439513_Chest_Portable_PORTABLE - 1_IM-0001-0001-0002.dcm (deflated 0%)\n",
      "  adding: ruby_xrays/_opt_bucketdata_ORIGINAL_DATA_MASTER_DATA_CT_Ruby_Covid_data_ctxray_XR_Rasal Ramchandra - 000011439513_Chest_Portable_PORTABLE - 1_IM-0001-0002-0002.dcm (deflated 0%)\n",
      "  adding: ruby_xrays/_opt_bucketdata_ORIGINAL_DATA_MASTER_DATA_CT_Ruby_Covid_data_ctxray_XR_Hiremath Sachin Gurpadya . - 000011582403_Chest X Ray_PORTABLE - 1_IM-0001-0001-0004.dcm (deflated 0%)\n",
      "  adding: ruby_xrays/_opt_bucketdata_ORIGINAL_DATA_MASTER_DATA_CT_Ruby_Covid_data_ctxray_XR_Hiremath Sachin Gurpadya . - 000011582403_Chest X Ray_PORTABLE - 1_IM-0001-0001-0003.dcm (deflated 0%)\n",
      "  adding: ruby_xrays/_opt_bucketdata_ORIGINAL_DATA_MASTER_DATA_CT_Ruby_Covid_data_ctxray_XR_Hiremath Sachin Gurpadya . - 000011582403_Chest X Ray_PORTABLE - 1_IM-0001-0001-0001.dcm (deflated 0%)\n",
      "  adding: ruby_xrays/_opt_bucketdata_ORIGINAL_DATA_MASTER_DATA_CT_Ruby_Covid_data_ctxray_XR_Hiremath Sachin Gurpadya . - 000011582403_Chest X Ray_PORTABLE - 1_IM-0001-0001-0002.dcm (deflated 0%)\n",
      "  adding: ruby_xrays/_opt_bucketdata_ORIGINAL_DATA_MASTER_DATA_CT_Ruby_Covid_data_ctxray_XR_Hiremath Sachin Gurpadya . - 000011582403_Chest X Ray_PA - 599_IM-0001-0001-0001.dcm (deflated 0%)\n",
      "  adding: ruby_xrays/_opt_bucketdata_ORIGINAL_DATA_MASTER_DATA_CT_Ruby_Covid_data_ctxray_XR_Pokale Santosh . - P00000104014_Chest X Ray_PORTABLE - 1_IM-0001-0001-0002.dcm (deflated 0%)\n",
      "  adding: ruby_xrays/_opt_bucketdata_ORIGINAL_DATA_MASTER_DATA_CT_Ruby_Covid_data_ctxray_XR_Pokale Santosh . - P00000104014_Chest X Ray_PORTABLE - 1_IM-0001-0001-0003.dcm (deflated 0%)\n",
      "  adding: ruby_xrays/_opt_bucketdata_ORIGINAL_DATA_MASTER_DATA_CT_Ruby_Covid_data_ctxray_XR_Pokale Santosh . - P00000104014_Chest X Ray_PORTABLE - 1_IM-0001-0001-0001.dcm (deflated 0%)\n",
      "  adding: ruby_xrays/_opt_bucketdata_ORIGINAL_DATA_MASTER_DATA_CT_Ruby_Covid_data_ctxray_XR_Agarwal  Ramvilas M . - P00000110863_Chest X Ray_unnamed - 1_IM-0001-0001-0001.dcm (deflated 0%)\n",
      "  adding: ruby_xrays/_opt_bucketdata_ORIGINAL_DATA_MASTER_DATA_CT_Ruby_Covid_data_ctxray_XR_Agarwal  Ramvilas M . - P00000110863_Chest X Ray_PA - 622_IM-0001-0001-0001.dcm (deflated 0%)\n",
      "  adding: ruby_xrays/_opt_bucketdata_ORIGINAL_DATA_MASTER_DATA_CT_Ruby_Covid_data_ctxray_XR_Agarwal  Ramvilas M . - P00000110863_Port - Cxr_AP - 623_IM-0001-0001-0001.dcm (deflated 0%)\n",
      "  adding: ruby_xrays/_opt_bucketdata_ORIGINAL_DATA_MASTER_DATA_CT_Ruby_Covid_data_ctxray_XR_Sankala  Kishor V . - P00000105300_Chest X Ray_PORTABLE - 1_IM-0001-0001-0001.dcm (deflated 0%)\n",
      "  adding: ruby_xrays/_opt_bucketdata_ORIGINAL_DATA_MASTER_DATA_CT_Ruby_Covid_data_ctxray_XR_Sankala  Kishor V . - P00000105300_Chest X Ray_PORTABLE - 1_IM-0001-0001-0002.dcm (deflated 0%)\n",
      "  adding: ruby_xrays/_opt_bucketdata_ORIGINAL_DATA_MASTER_DATA_CT_Ruby_Covid_data_ctxray_XR_Sankala  Kishor V . - P00000105300_Chest X Ray_PORTABLE - 1_IM-0001-0001-0003.dcm (deflated 0%)\n",
      "  adding: ruby_xrays/_opt_bucketdata_ORIGINAL_DATA_MASTER_DATA_CT_Ruby_Covid_data_ctxray_XR_Thakure Vijay Arun - P00000111322_Chest_Portable_PORTABLE - 1_IM-0001-0001-0001.dcm (deflated 0%)\n",
      "  adding: ruby_xrays/_opt_bucketdata_ORIGINAL_DATA_MASTER_DATA_CT_Ruby_Covid_data_ctxray_XR_Disouza Sebastian . - P00000109292_Chest X Ray_PORTABLE - 1_IM-0001-0001-0010.dcm (deflated 0%)\n",
      "  adding: ruby_xrays/_opt_bucketdata_ORIGINAL_DATA_MASTER_DATA_CT_Ruby_Covid_data_ctxray_XR_Disouza Sebastian . - P00000109292_Chest X Ray_PORTABLE - 1_IM-0001-0001-0011.dcm (deflated 0%)\n",
      "  adding: ruby_xrays/_opt_bucketdata_ORIGINAL_DATA_MASTER_DATA_CT_Ruby_Covid_data_ctxray_XR_Disouza Sebastian . - P00000109292_Chest X Ray_PORTABLE - 1_IM-0001-0001-0012.dcm (deflated 0%)\n",
      "  adding: ruby_xrays/_opt_bucketdata_ORIGINAL_DATA_MASTER_DATA_CT_Ruby_Covid_data_ctxray_XR_Disouza Sebastian . - P00000109292_Chest X Ray_PORTABLE - 1_IM-0001-0001-0004.dcm (deflated 0%)\n",
      "  adding: ruby_xrays/_opt_bucketdata_ORIGINAL_DATA_MASTER_DATA_CT_Ruby_Covid_data_ctxray_XR_Disouza Sebastian . - P00000109292_Chest X Ray_PORTABLE - 1_IM-0001-0001-0006.dcm (deflated 0%)\n",
      "  adding: ruby_xrays/_opt_bucketdata_ORIGINAL_DATA_MASTER_DATA_CT_Ruby_Covid_data_ctxray_XR_Disouza Sebastian . - P00000109292_Chest X Ray_PORTABLE - 1_IM-0001-0001-0002.dcm (deflated 0%)\n"
     ]
    },
    {
     "name": "stdout",
     "output_type": "stream",
     "text": [
      "  adding: ruby_xrays/_opt_bucketdata_ORIGINAL_DATA_MASTER_DATA_CT_Ruby_Covid_data_ctxray_XR_Disouza Sebastian . - P00000109292_Chest X Ray_PORTABLE - 1_IM-0001-0001-0009.dcm (deflated 0%)\n",
      "  adding: ruby_xrays/_opt_bucketdata_ORIGINAL_DATA_MASTER_DATA_CT_Ruby_Covid_data_ctxray_XR_Disouza Sebastian . - P00000109292_Chest X Ray_PORTABLE - 1_IM-0001-0001-0007.dcm (deflated 0%)\n",
      "  adding: ruby_xrays/_opt_bucketdata_ORIGINAL_DATA_MASTER_DATA_CT_Ruby_Covid_data_ctxray_XR_Disouza Sebastian . - P00000109292_Chest X Ray_PORTABLE - 1_IM-0001-0001-0005.dcm (deflated 0%)\n",
      "  adding: ruby_xrays/_opt_bucketdata_ORIGINAL_DATA_MASTER_DATA_CT_Ruby_Covid_data_ctxray_XR_Disouza Sebastian . - P00000109292_Chest X Ray_PORTABLE - 1_IM-0001-0001-0001.dcm (deflated 0%)\n",
      "  adding: ruby_xrays/_opt_bucketdata_ORIGINAL_DATA_MASTER_DATA_CT_Ruby_Covid_data_ctxray_XR_Disouza Sebastian . - P00000109292_Chest X Ray_PORTABLE - 1_IM-0001-0001-0003.dcm (deflated 0%)\n",
      "  adding: ruby_xrays/_opt_bucketdata_ORIGINAL_DATA_MASTER_DATA_CT_Ruby_Covid_data_ctxray_XR_Disouza Sebastian . - P00000109292_Chest X Ray_PORTABLE - 1_IM-0001-0001-0008.dcm (deflated 0%)\n",
      "  adding: ruby_xrays/_opt_bucketdata_ORIGINAL_DATA_MASTER_DATA_CT_Ruby_Covid_data_ctxray_XR_Kasbe Nilabai Maruti     (-) . - 000011415020_Adult Chest_PA - 1_IM-0001-0001-0001.dcm (deflated 0%)\n",
      "  adding: ruby_xrays/_opt_bucketdata_ORIGINAL_DATA_MASTER_DATA_CT_Ruby_Covid_data_ctxray_XR_Kasbe Nilabai Maruti     (-) . - 000011415020_Chest X Ray_PA - 5_IM-0001-0001-0001.dcm (deflated 0%)\n",
      "  adding: ruby_xrays/_opt_bucketdata_ORIGINAL_DATA_MASTER_DATA_CT_Ruby_Covid_data_ctxray_XR_Nanak Sunil Harichandra . - 000011401210_Chest X Ray_PORTABLE - 1_IM-0001-0001-0004.dcm (deflated 0%)\n",
      "  adding: ruby_xrays/_opt_bucketdata_ORIGINAL_DATA_MASTER_DATA_CT_Ruby_Covid_data_ctxray_XR_Nanak Sunil Harichandra . - 000011401210_Chest X Ray_PORTABLE - 1_IM-0001-0001-0002.dcm (deflated 0%)\n",
      "  adding: ruby_xrays/_opt_bucketdata_ORIGINAL_DATA_MASTER_DATA_CT_Ruby_Covid_data_ctxray_XR_Nanak Sunil Harichandra . - 000011401210_Chest X Ray_PORTABLE - 1_IM-0001-0001-0005.dcm (deflated 0%)\n",
      "  adding: ruby_xrays/_opt_bucketdata_ORIGINAL_DATA_MASTER_DATA_CT_Ruby_Covid_data_ctxray_XR_Nanak Sunil Harichandra . - 000011401210_Chest X Ray_PORTABLE - 1_IM-0001-0001-0001.dcm (deflated 0%)\n",
      "  adding: ruby_xrays/_opt_bucketdata_ORIGINAL_DATA_MASTER_DATA_CT_Ruby_Covid_data_ctxray_XR_Nanak Sunil Harichandra . - 000011401210_Chest X Ray_PORTABLE - 1_IM-0001-0001-0003.dcm (deflated 0%)\n",
      "  adding: ruby_xrays/_opt_bucketdata_ORIGINAL_DATA_MASTER_DATA_CT_Ruby_Covid_data_ctxray_XR_Nanak Sunil Harichandra . - 000011401210_Chest X Ray_PA - 598_IM-0001-0001-0001.dcm (deflated 0%)\n",
      "  adding: ruby_xrays/_opt_bucketdata_ORIGINAL_DATA_MASTER_DATA_CT_Ruby_Covid_data_ctxray_XR_Nanak Sunil Harichandra . - 000011401210_Adult Chest_PA - 1_IM-0001-0001-0002.dcm (deflated 0%)\n",
      "  adding: ruby_xrays/_opt_bucketdata_ORIGINAL_DATA_MASTER_DATA_CT_Ruby_Covid_data_ctxray_XR_Nanak Sunil Harichandra . - 000011401210_Adult Chest_PA - 1_IM-0001-0001-0001.dcm (deflated 0%)\n",
      "  adding: ruby_xrays/_opt_bucketdata_ORIGINAL_DATA_MASTER_DATA_CT_Ruby_Covid_data_ctxray_XR_Sapkal Madhavrao B - P00000108894_Chest_Portable_PORTABLE - 1_IM-0001-0001-0001.dcm (deflated 0%)\n",
      "  adding: ruby_xrays/_opt_bucketdata_ORIGINAL_DATA_MASTER_DATA_CT_Ruby_Covid_data_ctxray_XR_Sisode Kevalabai S -Ntu-203 - P00000101219_Unnamed_unnamed - 1_IM-0001-0001-0002.dcm (deflated 0%)\n",
      "  adding: ruby_xrays/_opt_bucketdata_ORIGINAL_DATA_MASTER_DATA_CT_Ruby_Covid_data_ctxray_XR_Sisode Kevalabai S -Ntu-203 - P00000101219_Unnamed_unnamed - 1_IM-0001-0001-0001.dcm (deflated 0%)\n",
      "  adding: ruby_xrays/_opt_bucketdata_ORIGINAL_DATA_MASTER_DATA_CT_Ruby_Covid_data_ctxray_XR_Sahni  Joginder R . - P00000100302_Adult Chest_PA - 1_IM-0001-0001-0001.dcm (deflated 0%)\n",
      "  adding: ruby_xrays/_opt_bucketdata_ORIGINAL_DATA_MASTER_DATA_CT_Ruby_Covid_data_ctxray_XR_Sahni  Joginder R . - P00000100302_Adult Chest_PA - 1_IM-0001-0001-0002.dcm (deflated 0%)\n",
      "  adding: ruby_xrays/_opt_bucketdata_ORIGINAL_DATA_MASTER_DATA_CT_Ruby_Covid_data_ctxray_XR_Sahni  Joginder R . - P00000100302_Adult Chest_PA - 4_IM-0001-0001-0001.dcm (deflated 0%)\n",
      "  adding: ruby_xrays/_opt_bucketdata_ORIGINAL_DATA_MASTER_DATA_CT_Ruby_Covid_data_ctxray_XR_Sahni  Joginder R . - P00000100302_Adult Chest_PA - 4_IM-0001-0001-0002.dcm (deflated 0%)\n",
      "  adding: ruby_xrays/_opt_bucketdata_ORIGINAL_DATA_MASTER_DATA_CT_Ruby_Covid_data_ctxray_XR_Sahni  Joginder R . - P00000100302_Chest X Ray_PORTABLE - 1_IM-0001-0001-0012.dcm (deflated 0%)\n",
      "  adding: ruby_xrays/_opt_bucketdata_ORIGINAL_DATA_MASTER_DATA_CT_Ruby_Covid_data_ctxray_XR_Sahni  Joginder R . - P00000100302_Chest X Ray_PORTABLE - 1_IM-0001-0001-0007.dcm (deflated 0%)\n",
      "  adding: ruby_xrays/_opt_bucketdata_ORIGINAL_DATA_MASTER_DATA_CT_Ruby_Covid_data_ctxray_XR_Sahni  Joginder R . - P00000100302_Chest X Ray_PORTABLE - 1_IM-0001-0001-0009.dcm (deflated 0%)\n",
      "  adding: ruby_xrays/_opt_bucketdata_ORIGINAL_DATA_MASTER_DATA_CT_Ruby_Covid_data_ctxray_XR_Sahni  Joginder R . - P00000100302_Chest X Ray_PORTABLE - 1_IM-0001-0001-0001.dcm (deflated 0%)\n",
      "  adding: ruby_xrays/_opt_bucketdata_ORIGINAL_DATA_MASTER_DATA_CT_Ruby_Covid_data_ctxray_XR_Sahni  Joginder R . - P00000100302_Chest X Ray_PORTABLE - 1_IM-0001-0001-0005.dcm (deflated 0%)\n",
      "  adding: ruby_xrays/_opt_bucketdata_ORIGINAL_DATA_MASTER_DATA_CT_Ruby_Covid_data_ctxray_XR_Sahni  Joginder R . - P00000100302_Chest X Ray_PORTABLE - 1_IM-0001-0001-0004.dcm (deflated 0%)\n",
      "  adding: ruby_xrays/_opt_bucketdata_ORIGINAL_DATA_MASTER_DATA_CT_Ruby_Covid_data_ctxray_XR_Sahni  Joginder R . - P00000100302_Chest X Ray_PORTABLE - 1_IM-0001-0001-0006.dcm (deflated 0%)\n",
      "  adding: ruby_xrays/_opt_bucketdata_ORIGINAL_DATA_MASTER_DATA_CT_Ruby_Covid_data_ctxray_XR_Sahni  Joginder R . - P00000100302_Chest X Ray_PORTABLE - 1_IM-0001-0001-0013.dcm (deflated 0%)\n",
      "  adding: ruby_xrays/_opt_bucketdata_ORIGINAL_DATA_MASTER_DATA_CT_Ruby_Covid_data_ctxray_XR_Sahni  Joginder R . - P00000100302_Chest X Ray_PORTABLE - 1_IM-0001-0001-0003.dcm (deflated 0%)\n",
      "  adding: ruby_xrays/_opt_bucketdata_ORIGINAL_DATA_MASTER_DATA_CT_Ruby_Covid_data_ctxray_XR_Sahni  Joginder R . - P00000100302_Chest X Ray_PORTABLE - 1_IM-0001-0001-0008.dcm (deflated 0%)\n",
      "  adding: ruby_xrays/_opt_bucketdata_ORIGINAL_DATA_MASTER_DATA_CT_Ruby_Covid_data_ctxray_XR_Sahni  Joginder R . - P00000100302_Chest X Ray_PORTABLE - 1_IM-0001-0001-0010.dcm (deflated 0%)\n",
      "  adding: ruby_xrays/_opt_bucketdata_ORIGINAL_DATA_MASTER_DATA_CT_Ruby_Covid_data_ctxray_XR_Sahni  Joginder R . - P00000100302_Chest X Ray_PORTABLE - 1_IM-0001-0001-0002.dcm (deflated 0%)\n",
      "  adding: ruby_xrays/_opt_bucketdata_ORIGINAL_DATA_MASTER_DATA_CT_Ruby_Covid_data_ctxray_XR_Sahni  Joginder R . - P00000100302_Chest X Ray_PORTABLE - 1_IM-0001-0001-0015.dcm (deflated 0%)\n",
      "  adding: ruby_xrays/_opt_bucketdata_ORIGINAL_DATA_MASTER_DATA_CT_Ruby_Covid_data_ctxray_XR_Sahni  Joginder R . - P00000100302_Chest X Ray_PORTABLE - 1_IM-0001-0001-0011.dcm (deflated 0%)\n",
      "  adding: ruby_xrays/_opt_bucketdata_ORIGINAL_DATA_MASTER_DATA_CT_Ruby_Covid_data_ctxray_XR_Sahni  Joginder R . - P00000100302_Chest X Ray_PORTABLE - 1_IM-0001-0001-0014.dcm (deflated 0%)\n",
      "  adding: ruby_xrays/_opt_bucketdata_ORIGINAL_DATA_MASTER_DATA_CT_Ruby_Covid_data_ctxray_XR_Sahni  Joginder R . - P00000100302_Chest X Ray_PA - 620_IM-0001-0001-0001.dcm (deflated 0%)\n",
      "  adding: ruby_xrays/_opt_bucketdata_ORIGINAL_DATA_MASTER_DATA_CT_Ruby_Covid_data_ctxray_XR_Sahni  Joginder R . - P00000100302_Adult Chest - 1 View_PA - 621_IM-0001-0001-0001.dcm (deflated 0%)\n",
      "  adding: ruby_xrays/_opt_bucketdata_ORIGINAL_DATA_MASTER_DATA_CT_Ruby_Covid_data_ctxray_XR_Sahni  Joginder R . - P00000100302_Port - Cxr_AP - 621_IM-0001-0001-0001.dcm (deflated 0%)\n",
      "  adding: ruby_xrays/_opt_bucketdata_ORIGINAL_DATA_MASTER_DATA_CT_Ruby_Covid_data_ctxray_XR_Akhilesh Swarnkar     (055283) . - 000011525114_Knee - 1 View_AP - 1_IM-0001-0001-0001.dcm (deflated 0%)\n",
      "  adding: ruby_xrays/_opt_bucketdata_ORIGINAL_DATA_MASTER_DATA_CT_Ruby_Covid_data_ctxray_XR_Akhilesh Swarnkar     (055283) . - 000011525114_Knee - 1 View_LATERAL - 3_IM-0001-0001-0001.dcm (deflated 0%)\n",
      "  adding: ruby_xrays/_opt_bucketdata_ORIGINAL_DATA_MASTER_DATA_CT_Ruby_Covid_data_ctxray_XR_Akhilesh Swarnkar     (055283) . - 000011525114_Knee - 1 View_LATERAL - 5_IM-0001-0001-0001.dcm (deflated 0%)\n"
     ]
    },
    {
     "name": "stdout",
     "output_type": "stream",
     "text": [
      "  adding: ruby_xrays/_opt_bucketdata_ORIGINAL_DATA_MASTER_DATA_CT_Ruby_Covid_data_ctxray_XR_Akhilesh Swarnkar     (055283) . - 000011525114_Knee - 1 View_LATERAL - 2_IM-0001-0001-0001.dcm (deflated 0%)\n",
      "  adding: ruby_xrays/_opt_bucketdata_ORIGINAL_DATA_MASTER_DATA_CT_Ruby_Covid_data_ctxray_XR_Akhilesh Swarnkar     (055283) . - 000011525114_Knee - 1 View_AP - 6_IM-0001-0001-0001.dcm (deflated 0%)\n",
      "  adding: ruby_xrays/_opt_bucketdata_ORIGINAL_DATA_MASTER_DATA_CT_Ruby_Covid_data_ctxray_XR_Arun C G Raj(017327) . - 000011552978_Adult Chest_PA - 1_IM-0001-0001-0001.dcm (deflated 0%)\n",
      "  adding: ruby_xrays/_opt_bucketdata_ORIGINAL_DATA_MASTER_DATA_CT_Ruby_Covid_data_ctxray_XR_Bende Surendra R J-2B - 11082349_Unnamed_unnamed - 1_IM-0001-0001-0001.dcm (deflated 0%)\n",
      "  adding: ruby_xrays/_opt_bucketdata_ORIGINAL_DATA_MASTER_DATA_CT_Ruby_Covid_data_ctxray_XR_Bidkar Ganesh Madhukar . - 000011479276_Chest X Ray_PA - 347_IM-0001-0001-0001.dcm (deflated 0%)\n",
      "  adding: ruby_xrays/_opt_bucketdata_ORIGINAL_DATA_MASTER_DATA_CT_Ruby_Covid_data_ctxray_XR_Bidkar Ganesh Madhukar . - 000011479276_Chest X Ray_PA - 1_IM-0001-0001-0002.dcm (deflated 0%)\n",
      "  adding: ruby_xrays/_opt_bucketdata_ORIGINAL_DATA_MASTER_DATA_CT_Ruby_Covid_data_ctxray_XR_Bidkar Ganesh Madhukar . - 000011479276_Chest X Ray_PA - 1_IM-0001-0001-0001.dcm (deflated 0%)\n",
      "  adding: ruby_xrays/_opt_bucketdata_ORIGINAL_DATA_MASTER_DATA_CT_Ruby_Covid_data_ctxray_XR_C Balakrishnan . - P00000115567_Chest X Ray_PORTABLE - 1_IM-0001-0001-0001.dcm (deflated 0%)\n",
      "  adding: ruby_xrays/_opt_bucketdata_ORIGINAL_DATA_MASTER_DATA_CT_Ruby_Covid_data_ctxray_XR_Elsa Tamy Joy -C-03 - P00000118565_Unnamed_unnamed - 2_IM-0001-0001-0001.dcm (deflated 0%)\n",
      "  adding: ruby_xrays/_opt_bucketdata_ORIGINAL_DATA_MASTER_DATA_CT_Ruby_Covid_data_ctxray_XR_Jadhav Pravin Ramdas . - 000011445444_Chest X Ray_PA - 705_IM-0001-0001-0001.dcm (deflated 0%)\n",
      "  adding: ruby_xrays/_opt_bucketdata_ORIGINAL_DATA_MASTER_DATA_CT_Ruby_Covid_data_ctxray_XR_Metelda Jose . - 000011565101_Adult Chest_PA - 1_IM-0001-0001-0001.dcm (deflated 0%)\n",
      "  adding: ruby_xrays/_opt_bucketdata_ORIGINAL_DATA_MASTER_DATA_CT_Ruby_Covid_data_ctxray_XR_Rathod Vikram Anil . - P00000110491_Chest X Ray_PA - 624_IM-0001-0001-0001.dcm (deflated 0%)\n",
      "  adding: ruby_xrays/_opt_bucketdata_ORIGINAL_DATA_MASTER_DATA_CT_Ruby_Covid_data_ctxray_XR_Rathod Vikram Anil . - P00000110491_Chest X Ray_unnamed - 1_IM-0001-0001-0004.dcm (deflated 0%)\n",
      "  adding: ruby_xrays/_opt_bucketdata_ORIGINAL_DATA_MASTER_DATA_CT_Ruby_Covid_data_ctxray_XR_Rathod Vikram Anil . - P00000110491_Chest X Ray_unnamed - 1_IM-0001-0001-0003.dcm (deflated 0%)\n",
      "  adding: ruby_xrays/_opt_bucketdata_ORIGINAL_DATA_MASTER_DATA_CT_Ruby_Covid_data_ctxray_XR_Rathod Vikram Anil . - P00000110491_Chest X Ray_unnamed - 1_IM-0001-0001-0001.dcm (deflated 0%)\n",
      "  adding: ruby_xrays/_opt_bucketdata_ORIGINAL_DATA_MASTER_DATA_CT_Ruby_Covid_data_ctxray_XR_Rathod Vikram Anil . - P00000110491_Chest X Ray_unnamed - 1_IM-0001-0001-0002.dcm (deflated 0%)\n",
      "  adding: ruby_xrays/_opt_bucketdata_ORIGINAL_DATA_MASTER_DATA_CT_Ruby_Covid_data_ctxray_XR_Rathod Vikram Anil . - P00000110491_Chest X Ray_PA - 621_IM-0001-0001-0001.dcm (deflated 0%)\n",
      "  adding: ruby_xrays/_opt_bucketdata_ORIGINAL_DATA_MASTER_DATA_CT_Ruby_Covid_data_ctxray_XR_Parashar  Vishvas T . - P00000120772_Adult Chest - 1 View_PA - 650_IM-0001-0001-0001.dcm (deflated 0%)\n",
      "  adding: ruby_xrays/_opt_bucketdata_ORIGINAL_DATA_MASTER_DATA_CT_Ruby_Covid_data_ctxray_XR_Sardar Singh - P00000121200_Chest_Portable_PORTABLE - 1_IM-0001-0001-0001.dcm (deflated 0%)\n",
      "  adding: ruby_xrays/_opt_bucketdata_ORIGINAL_DATA_MASTER_DATA_CT_Ruby_Covid_data_ctxray_XR_Jadhav Vishvajit Suryabhan . - P00000115021_Adult Chest_PA - 1_IM-0001-0001-0001.dcm (deflated 0%)\n",
      "  adding: ruby_xrays/_opt_bucketdata_ORIGINAL_DATA_MASTER_DATA_CT_Ruby_Covid_data_ctxray_XR_Kare Sharda Dilip . - W00000118585_Chest X Ray_PA - 1707_IM-0001-0001-0001.dcm (deflated 0%)\n",
      "  adding: ruby_xrays/_opt_bucketdata_ORIGINAL_DATA_MASTER_DATA_CT_Ruby_Covid_data_ctxray_XR_Khandve Vikram S Ccu-20 - P00000129961_Unnamed_unnamed - 3_IM-0001-0001-0001.dcm (deflated 0%)\n",
      "  adding: ruby_xrays/_opt_bucketdata_ORIGINAL_DATA_MASTER_DATA_CT_Ruby_Covid_data_ctxray_XR_Murari Krishna - P00000114195_Chest_Portable_PORTABLE - 1_IM-0001-0001-0001.dcm (deflated 0%)\n",
      "  adding: ruby_xrays/_opt_bucketdata_ORIGINAL_DATA_MASTER_DATA_CT_Ruby_Covid_data_ctxray_XR_Naikwadi Pravin Ashok - P00000121821_Chest_Portable_PORTABLE - 1_IM-0001-0001-0001.dcm (deflated 0%)\n",
      "  adding: ruby_xrays/_opt_bucketdata_ORIGINAL_DATA_MASTER_DATA_CT_Ruby_Covid_data_ctxray_XR_Pise  Ravindra J (T.No - 51560) . - 11188933_Chest Pa_CHEST PA - 1_IM-0001-0001-0001.dcm (deflated 0%)\n",
      "  adding: ruby_xrays/_opt_bucketdata_ORIGINAL_DATA_MASTER_DATA_CT_Ruby_Covid_data_ctxray_XR_Santosh Shingate     (003785) . - 10252586_Adult Chest_PA - 1_IM-0001-0001-0001.dcm (deflated 0%)\n",
      "  adding: ruby_xrays/_opt_bucketdata_ORIGINAL_DATA_MASTER_DATA_CT_Ruby_Covid_data_ctxray_XR_Shinde  Sharda D . - P00000131464_Chest X Ray_PORTABLE - 1_IM-0001-0001-0001.dcm (deflated 0%)\n",
      "  adding: ruby_xrays/_opt_bucketdata_ORIGINAL_DATA_MASTER_DATA_CT_Ruby_Covid_data_ctxray_XR_Sood Pooja . - P00000125736_Chest X Ray_PORTABLE - 1_IM-0001-0001-0001.dcm (deflated 0%)\n",
      "  adding: ruby_xrays/_opt_bucketdata_ORIGINAL_DATA_MASTER_DATA_CT_Ruby_Covid_data_ctxray_XR_Wadkar Atul S - P00000131368_Chest_Portable_PORTABLE - 1_IM-0001-0001-0001.dcm (deflated 0%)\n",
      "  adding: ruby_xrays/_opt_bucketdata_ORIGINAL_DATA_MASTER_DATA_CT_Ruby_Covid_data_ctxray_XR_Bate Rukmini . - P00000128386_Chest X Ray_PA - 666_IM-0001-0001-0001.dcm (deflated 0%)\n",
      "  adding: ruby_xrays/_opt_bucketdata_ORIGINAL_DATA_MASTER_DATA_CT_Ruby_Covid_data_ctxray_XR_Bate Rukmini . - P00000128386_Chest X Ray_unnamed - 2_IM-0001-0001-0001.dcm (deflated 0%)\n",
      "  adding: ruby_xrays/_opt_bucketdata_ORIGINAL_DATA_MASTER_DATA_CT_Ruby_Covid_data_ctxray_XR_Gaderao Santosh J-8 - 10967733_Unnamed_unnamed - 1_IM-0001-0001-0001.dcm (deflated 0%)\n",
      "  adding: ruby_xrays/_opt_bucketdata_ORIGINAL_DATA_MASTER_DATA_CT_Ruby_Covid_data_ctxray_XR_Anu George . - P00000123399_Chest X Ray_PORTABLE - 1_IM-0001-0001-0001.dcm (deflated 0%)\n",
      "  adding: ruby_xrays/_opt_bucketdata_ORIGINAL_DATA_MASTER_DATA_CT_Ruby_Covid_data_ctxray_XR_Bayolla Vijaya M C-41 - 11365995_Unnamed_unnamed - 1_IM-0001-0001-0001.dcm (deflated 0%)\n",
      "  adding: ruby_xrays/_opt_bucketdata_ORIGINAL_DATA_MASTER_DATA_CT_Ruby_Covid_data_ctxray_XR_Bidkar Nilesh Appa . - P00000127783_Chest X Ray_PORTABLE - 1_IM-0001-0001-0001.dcm (deflated 0%)\n",
      "  adding: ruby_xrays/_opt_bucketdata_ORIGINAL_DATA_MASTER_DATA_CT_Ruby_Covid_data_ctxray_XR_Bidkar Nilesh Appa . - P00000127783_Chest X Ray_PORTABLE - 1_IM-0001-0001-0002.dcm (deflated 0%)\n",
      "  adding: ruby_xrays/_opt_bucketdata_ORIGINAL_DATA_MASTER_DATA_CT_Ruby_Covid_data_ctxray_XR_Chavan Rajendra N - P00000116423_Chest_Portable_PORTABLE - 1_IM-0001-0001-0001.dcm (deflated 0%)\n",
      "  adding: ruby_xrays/_opt_bucketdata_ORIGINAL_DATA_MASTER_DATA_CT_Ruby_Covid_data_ctxray_XR_Chavan Rajendra N - P00000116423_Ped.Chest_Pa_PA - 1_IM-0001-0001-0001.dcm (deflated 0%)\n",
      "  adding: ruby_xrays/_opt_bucketdata_ORIGINAL_DATA_MASTER_DATA_CT_Ruby_Covid_data_ctxray_XR_Kawade Dilip  C-C-32 - P00000119201_Unnamed_unnamed - 1_IM-0001-0001-0001.dcm (deflated 0%)\n",
      "  adding: ruby_xrays/_opt_bucketdata_ORIGINAL_DATA_MASTER_DATA_CT_Ruby_Covid_data_ctxray_XR_Khandge Babubai - 10792993_Chest_Portable_PORTABLE - 1_IM-0001-0001-0001.dcm (deflated 0%)\n",
      "  adding: ruby_xrays/_opt_bucketdata_ORIGINAL_DATA_MASTER_DATA_CT_Ruby_Covid_data_ctxray_XR_S S Bapat  H-5A - P00000116646_Unnamed_unnamed - 1_IM-0001-0001-0002.dcm (deflated 0%)\n",
      "  adding: ruby_xrays/_opt_bucketdata_ORIGINAL_DATA_MASTER_DATA_CT_Ruby_Covid_data_ctxray_XR_S S Bapat  H-5A - P00000116646_Unnamed_unnamed - 1_IM-0001-0001-0001.dcm (deflated 0%)\n",
      "  adding: ruby_xrays/_opt_bucketdata_ORIGINAL_DATA_MASTER_DATA_CT_Ruby_Covid_data_ctxray_XR_Yogesh K Acharya . - P00000111022_Adult Chest_PA - 1_IM-0001-0001-0001.dcm (deflated 0%)\n",
      "  adding: ruby_xrays/_opt_bucketdata_ORIGINAL_DATA_MASTER_DATA_CT_Ruby_Covid_data_ctxray_XR_Bhosale Chandrakant -I-01A - P00000116069_Unnamed_unnamed - 3_IM-0001-0001-0001.dcm (deflated 0%)\n",
      "  adding: ruby_xrays/_opt_bucketdata_ORIGINAL_DATA_MASTER_DATA_CT_Ruby_Covid_data_ctxray_XR_Chavan Avinash Ramchandra . - P00000118635_Adult Chest_AP - 2_IM-0001-0001-0001.dcm (deflated 0%)\n"
     ]
    },
    {
     "name": "stdout",
     "output_type": "stream",
     "text": [
      "  adding: ruby_xrays/_opt_bucketdata_ORIGINAL_DATA_MASTER_DATA_CT_Ruby_Covid_data_ctxray_XR_Chavan Vaishali J-4A - P00000119886_Unnamed_unnamed - 1_IM-0001-0001-0001.dcm (deflated 0%)\n",
      "  adding: ruby_xrays/_opt_bucketdata_ORIGINAL_DATA_MASTER_DATA_CT_Ruby_Covid_data_ctxray_XR_Hinge Kantaram Maruti . - 10644936_Chest X Ray_PORTABLE - 1_IM-0001-0001-0001.dcm (deflated 0%)\n",
      "  adding: ruby_xrays/_opt_bucketdata_ORIGINAL_DATA_MASTER_DATA_CT_Ruby_Covid_data_ctxray_XR_Hinge Kantaram Maruti . - 10644936_Chest X Ray_PORTABLE - 1_IM-0001-0001-0003.dcm (deflated 0%)\n",
      "  adding: ruby_xrays/_opt_bucketdata_ORIGINAL_DATA_MASTER_DATA_CT_Ruby_Covid_data_ctxray_XR_Hinge Kantaram Maruti . - 10644936_Chest X Ray_PORTABLE - 1_IM-0001-0001-0002.dcm (deflated 0%)\n",
      "  adding: ruby_xrays/_opt_bucketdata_ORIGINAL_DATA_MASTER_DATA_CT_Ruby_Covid_data_ctxray_XR_Hinge Kantaram Maruti . - 10644936_Chest X Ray_PORTABLE - 1_IM-0001-0001-0004.dcm (deflated 0%)\n",
      "  adding: ruby_xrays/_opt_bucketdata_ORIGINAL_DATA_MASTER_DATA_CT_Ruby_Covid_data_ctxray_XR_Hinge Kantaram Maruti . - 10644936_Chest X Ray_PORTABLE - 1_IM-0001-0001-0006.dcm (deflated 0%)\n",
      "  adding: ruby_xrays/_opt_bucketdata_ORIGINAL_DATA_MASTER_DATA_CT_Ruby_Covid_data_ctxray_XR_Hinge Kantaram Maruti . - 10644936_Chest X Ray_PORTABLE - 1_IM-0001-0001-0005.dcm (deflated 0%)\n",
      "  adding: ruby_xrays/_opt_bucketdata_ORIGINAL_DATA_MASTER_DATA_CT_Ruby_Covid_data_ctxray_XR_Hinge Kantaram Maruti . - 10644936_Chest X Ray_PORTABLE - 1_IM-0001-0002-0001.dcm (deflated 0%)\n",
      "  adding: ruby_xrays/_opt_bucketdata_ORIGINAL_DATA_MASTER_DATA_CT_Ruby_Covid_data_ctxray_XR_Indulkar Prakash V - P00000116171_Chest_Portable_PORTABLE - 1_IM-0001-0001-0002.dcm (deflated 0%)\n",
      "  adding: ruby_xrays/_opt_bucketdata_ORIGINAL_DATA_MASTER_DATA_CT_Ruby_Covid_data_ctxray_XR_Indulkar Prakash V - P00000116171_Chest_Portable_PORTABLE - 1_IM-0001-0001-0001.dcm (deflated 0%)\n",
      "  adding: ruby_xrays/_opt_bucketdata_ORIGINAL_DATA_MASTER_DATA_CT_Ruby_Covid_data_ctxray_XR_Mr Nair Nikhil - p00000120747_Chest_Portable_PORTABLE - 1_IM-0001-0001-0003.dcm (deflated 0%)\n",
      "  adding: ruby_xrays/_opt_bucketdata_ORIGINAL_DATA_MASTER_DATA_CT_Ruby_Covid_data_ctxray_XR_Mr Nair Nikhil - p00000120747_Chest_Portable_PORTABLE - 1_IM-0001-0001-0001.dcm (deflated 0%)\n",
      "  adding: ruby_xrays/_opt_bucketdata_ORIGINAL_DATA_MASTER_DATA_CT_Ruby_Covid_data_ctxray_XR_Mr Nair Nikhil - p00000120747_Chest_Portable_PORTABLE - 1_IM-0001-0001-0002.dcm (deflated 0%)\n",
      "  adding: ruby_xrays/_opt_bucketdata_ORIGINAL_DATA_MASTER_DATA_CT_Ruby_Covid_data_ctxray_XR_Ravandhale G N -C-22 - P00000123045_Unnamed_unnamed - 1_IM-0001-0001-0002.dcm (deflated 0%)\n",
      "  adding: ruby_xrays/_opt_bucketdata_ORIGINAL_DATA_MASTER_DATA_CT_Ruby_Covid_data_ctxray_XR_Ravandhale G N -C-22 - P00000123045_Unnamed_unnamed - 1_IM-0001-0001-0001.dcm (deflated 0%)\n",
      "  adding: ruby_xrays/_opt_bucketdata_ORIGINAL_DATA_MASTER_DATA_CT_Ruby_Covid_data_ctxray_XR_Salunkhe Sadashiv - P00000111101_Ped.Chest_Pa_PA - 1_IM-0001-0001-0001.dcm (deflated 0%)\n",
      "  adding: ruby_xrays/_opt_bucketdata_ORIGINAL_DATA_MASTER_DATA_CT_Ruby_Covid_data_ctxray_XR_Shinde Prabhakar Icu-306 - 10752411_Unnamed_unnamed - 1_IM-0001-0001-0001.dcm (deflated 0%)\n",
      "  adding: ruby_xrays/_opt_bucketdata_ORIGINAL_DATA_MASTER_DATA_CT_Ruby_Covid_data_ctxray_XR_Aswal Kundan Singh . - P00000123017_Chest X Ray_PORTABLE - 1_IM-0001-0001-0001.dcm (deflated 0%)\n",
      "  adding: ruby_xrays/_opt_bucketdata_ORIGINAL_DATA_MASTER_DATA_CT_Ruby_Covid_data_ctxray_XR_Aswal Kundan Singh . - P00000123017_Chest X Ray_PORTABLE - 1_IM-0001-0001-0002.dcm (deflated 0%)\n",
      "  adding: ruby_xrays/_opt_bucketdata_ORIGINAL_DATA_MASTER_DATA_CT_Ruby_Covid_data_ctxray_XR_Aswal Kundan Singh . - P00000123017_Chest X Ray_PORTABLE - 1_IM-0001-0001-0003.dcm (deflated 0%)\n",
      "  adding: ruby_xrays/_opt_bucketdata_ORIGINAL_DATA_MASTER_DATA_CT_Ruby_Covid_data_ctxray_XR_Aswal Kundan Singh . - P00000123017_Chest X Ray_PORTABLE - 1_IM-0001-0002-0001.dcm (deflated 0%)\n",
      "  adding: ruby_xrays/_opt_bucketdata_ORIGINAL_DATA_MASTER_DATA_CT_Ruby_Covid_data_ctxray_XR_Aswal Kundan Singh . - P00000123017_Chest X Ray_PORTABLE - 1_IM-0001-0003-0001.dcm (deflated 0%)\n",
      "  adding: ruby_xrays/_opt_bucketdata_ORIGINAL_DATA_MASTER_DATA_CT_Ruby_Covid_data_ctxray_XR_Aswal Kundan Singh . - P00000123017_Chest X Ray_PORTABLE - 1_IM-0001-0001-0004.dcm (deflated 0%)\n",
      "  adding: ruby_xrays/_opt_bucketdata_ORIGINAL_DATA_MASTER_DATA_CT_Ruby_Covid_data_ctxray_XR_Chordiya Subhash M Ntu-210 - P00000122463_Unnamed_unnamed - 1_IM-0001-0001-0001.dcm (deflated 0%)\n",
      "  adding: ruby_xrays/_opt_bucketdata_ORIGINAL_DATA_MASTER_DATA_CT_Ruby_Covid_data_ctxray_XR_Chordiya Subhash M Ntu-210 - P00000122463_Unnamed_unnamed - 1_IM-0001-0001-0002.dcm (deflated 0%)\n",
      "  adding: ruby_xrays/_opt_bucketdata_ORIGINAL_DATA_MASTER_DATA_CT_Ruby_Covid_data_ctxray_XR_Gaikwad Mangala Ccu-23 - P00000112752_Unnamed_unnamed - 1_IM-0001-0001-0001.dcm (deflated 0%)\n",
      "  adding: ruby_xrays/_opt_bucketdata_ORIGINAL_DATA_MASTER_DATA_CT_Ruby_Covid_data_ctxray_XR_Kamble Suresh Vitthal - P00000122311_Chest_Portable_PORTABLE - 1_IM-0001-0001-0001.dcm (deflated 0%)\n",
      "  adding: ruby_xrays/_opt_bucketdata_ORIGINAL_DATA_MASTER_DATA_CT_Ruby_Covid_data_ctxray_XR_Bhadani Sudhirkumar -Icu-22 - P00000118241_Unnamed_unnamed - 1_IM-0001-0001-0001.dcm (deflated 0%)\n",
      "  adding: ruby_xrays/_opt_bucketdata_ORIGINAL_DATA_MASTER_DATA_CT_Ruby_Covid_data_ctxray_XR_Bhadani Sudhirkumar -Icu-22 - P00000118241_Unnamed_unnamed - 1_IM-0001-0001-0002.dcm (deflated 0%)\n",
      "  adding: ruby_xrays/_opt_bucketdata_ORIGINAL_DATA_MASTER_DATA_CT_Ruby_Covid_data_ctxray_XR_Dhebe Bhagu - P00000119111_Chest_Portable_PORTABLE - 1_IM-0001-0001-0001.dcm (deflated 0%)\n",
      "  adding: ruby_xrays/_opt_bucketdata_ORIGINAL_DATA_MASTER_DATA_CT_Ruby_Covid_data_ctxray_XR_Gaikwad Dilip R-Icu-24 - P00000130671_Unnamed_unnamed - 1_IM-0001-0001-0001.dcm (deflated 0%)\n",
      "  adding: ruby_xrays/_opt_bucketdata_ORIGINAL_DATA_MASTER_DATA_CT_Ruby_Covid_data_ctxray_XR_Bhoite Akshay H -C-18 - P00000129998_Unnamed_unnamed - 1_IM-0001-0001-0001.dcm (deflated 0%)\n",
      "  adding: ruby_xrays/_opt_bucketdata_ORIGINAL_DATA_MASTER_DATA_CT_Ruby_Covid_data_ctxray_XR_Dabhade Indubai . - P00000122138_Chest X Ray_PORTABLE - 1_IM-0001-0001-0001.dcm (deflated 0%)\n",
      "  adding: ruby_xrays/_opt_bucketdata_ORIGINAL_DATA_MASTER_DATA_CT_Ruby_Covid_data_ctxray_XR_Dabhade Indubai . - P00000122138_Chest X Ray_PORTABLE - 1_IM-0001-0001-0002.dcm (deflated 0%)\n",
      "  adding: ruby_xrays/_opt_bucketdata_ORIGINAL_DATA_MASTER_DATA_CT_Ruby_Covid_data_ctxray_XR_Dabhade Indubai . - P00000122138_Chest X Ray_PORTABLE - 1_IM-0001-0001-0003.dcm (deflated 0%)\n",
      "  adding: ruby_xrays/_opt_bucketdata_ORIGINAL_DATA_MASTER_DATA_CT_Ruby_Covid_data_ctxray_XR_Darpellu Raju Shantaram . - P00000131419_Chest X Ray_PORTABLE - 1_IM-0001-0001-0001.dcm (deflated 0%)\n",
      "  adding: ruby_xrays/_opt_bucketdata_ORIGINAL_DATA_MASTER_DATA_CT_Ruby_Covid_data_ctxray_XR_Divakaran Rajendra Ccu-21 - P00000115986_Unnamed_unnamed - 1_IM-0001-0001-0002.dcm (deflated 0%)\n",
      "  adding: ruby_xrays/_opt_bucketdata_ORIGINAL_DATA_MASTER_DATA_CT_Ruby_Covid_data_ctxray_XR_Divakaran Rajendra Ccu-21 - P00000115986_Unnamed_unnamed - 1_IM-0001-0001-0001.dcm (deflated 0%)\n",
      "  adding: ruby_xrays/_opt_bucketdata_ORIGINAL_DATA_MASTER_DATA_CT_Ruby_Covid_data_ctxray_XR_Ghule Shankar Laxman . - P00000122484_Chest X Ray_PORTABLE - 1_IM-0001-0001-0001.dcm (deflated 0%)\n",
      "  adding: ruby_xrays/_opt_bucketdata_ORIGINAL_DATA_MASTER_DATA_CT_Ruby_Covid_data_ctxray_XR_Iyer Kumar R-Icu-21 - P00000123860_Unnamed_unnamed - 1_IM-0001-0001-0001.dcm (deflated 0%)\n",
      "  adding: ruby_xrays/_opt_bucketdata_ORIGINAL_DATA_MASTER_DATA_CT_Ruby_Covid_data_ctxray_XR_Jagtap Shankar M - P00000106106_Pa_PA - 621_IM-0001-0001-0001.dcm (deflated 0%)\n",
      "  adding: ruby_xrays/_opt_bucketdata_ORIGINAL_DATA_MASTER_DATA_CT_Ruby_Covid_data_ctxray_XR_Jagtap Shankar M - P00000106106_Adult Chest - 1 View_PA - 626_IM-0001-0001-0001.dcm (deflated 0%)\n",
      "  adding: ruby_xrays/_opt_bucketdata_ORIGINAL_DATA_MASTER_DATA_CT_Ruby_Covid_data_ctxray_XR_Pethkar Ravindrakumar N - P00000122321_Chest_Portable_PORTABLE - 1_IM-0001-0001-0001.dcm (deflated 0%)\n",
      "  adding: ruby_xrays/_opt_bucketdata_ORIGINAL_DATA_MASTER_DATA_CT_Ruby_Covid_data_ctxray_XR_Pethkar Ravindrakumar N - P00000122321_Chest_Portable_PORTABLE - 1_IM-0001-0001-0002.dcm (deflated 0%)\n",
      "  adding: ruby_xrays/_opt_bucketdata_ORIGINAL_DATA_MASTER_DATA_CT_Ruby_Covid_data_ctxray_XR_Rukmini P Nighojkar Icu-309 - P00000134896_Chest_Portable_PORTABLE - 1_IM-0001-0001-0001.dcm (deflated 0%)\n"
     ]
    },
    {
     "name": "stdout",
     "output_type": "stream",
     "text": [
      "  adding: ruby_xrays/_opt_bucketdata_ORIGINAL_DATA_MASTER_DATA_CT_Ruby_Covid_data_ctxray_XR_Thorat Shankar Maruti-Ntu-207 - P00000115608_Unnamed_unnamed - 1_IM-0001-0001-0001.dcm (deflated 0%)\n",
      "  adding: ruby_xrays/_opt_bucketdata_ORIGINAL_DATA_MASTER_DATA_CT_Ruby_Covid_data_ctxray_XR_Dasraj Krishna N Icu-11 - 10285726_Unnamed_unnamed - 1_IM-0001-0001-0002.dcm (deflated 0%)\n",
      "  adding: ruby_xrays/_opt_bucketdata_ORIGINAL_DATA_MASTER_DATA_CT_Ruby_Covid_data_ctxray_XR_Dasraj Krishna N Icu-11 - 10285726_Unnamed_unnamed - 1_IM-0001-0001-0001.dcm (deflated 0%)\n",
      "  adding: ruby_xrays/_opt_bucketdata_ORIGINAL_DATA_MASTER_DATA_CT_Ruby_Covid_data_ctxray_XR_Jadhavar Waman -Icu-305 - 10134620_Unnamed_unnamed - 1_IM-0001-0001-0001.dcm (deflated 0%)\n",
      "  adding: ruby_xrays/_opt_bucketdata_ORIGINAL_DATA_MASTER_DATA_CT_Ruby_Covid_data_ctxray_XR_Tayade Hiraman K-Ccu-28 - P00000112304_Unnamed_unnamed - 1_IM-0001-0001-0001.dcm (deflated 0%)\n"
     ]
    }
   ],
   "source": [
    "! zip -r ./ruby_xrays.zip ./ruby_xrays/"
   ]
  },
  {
   "cell_type": "code",
   "execution_count": 88,
   "metadata": {},
   "outputs": [],
   "source": [
    "dicom_names=[]\n",
    "for idx, i in enumerate(list(df['unreadable_dicoms'])):\n",
    "    dest_file_name=('_').join(i.split('/'))\n",
    "    dicom_names.append(dest_file_name)\n",
    "    destination_path='./ruby_xrays/'+dest_file_name\n",
    "    shutil.copy(i, destination_path)\n",
    "    print (idx)"
   ]
  },
  {
   "cell_type": "code",
   "execution_count": 85,
   "metadata": {},
   "outputs": [],
   "source": [
    "! rm -rf ./ruby_xrays"
   ]
  },
  {
   "cell_type": "code",
   "execution_count": 89,
   "metadata": {},
   "outputs": [],
   "source": [
    "df['Dicom_Names']=dicom_names"
   ]
  },
  {
   "cell_type": "code",
   "execution_count": 90,
   "metadata": {},
   "outputs": [
    {
     "data": {
      "text/html": [
       "<div>\n",
       "<style scoped>\n",
       "    .dataframe tbody tr th:only-of-type {\n",
       "        vertical-align: middle;\n",
       "    }\n",
       "\n",
       "    .dataframe tbody tr th {\n",
       "        vertical-align: top;\n",
       "    }\n",
       "\n",
       "    .dataframe thead th {\n",
       "        text-align: right;\n",
       "    }\n",
       "</style>\n",
       "<table border=\"1\" class=\"dataframe\">\n",
       "  <thead>\n",
       "    <tr style=\"text-align: right;\">\n",
       "      <th></th>\n",
       "      <th>unreadable_dicoms</th>\n",
       "      <th>Dicom_Names</th>\n",
       "    </tr>\n",
       "  </thead>\n",
       "  <tbody>\n",
       "    <tr>\n",
       "      <th>0</th>\n",
       "      <td>/opt/bucketdata/ORIGINAL_DATA/MASTER_DATA_CT/R...</td>\n",
       "      <td>_opt_bucketdata_ORIGINAL_DATA_MASTER_DATA_CT_R...</td>\n",
       "    </tr>\n",
       "    <tr>\n",
       "      <th>1</th>\n",
       "      <td>/opt/bucketdata/ORIGINAL_DATA/MASTER_DATA_CT/R...</td>\n",
       "      <td>_opt_bucketdata_ORIGINAL_DATA_MASTER_DATA_CT_R...</td>\n",
       "    </tr>\n",
       "    <tr>\n",
       "      <th>2</th>\n",
       "      <td>/opt/bucketdata/ORIGINAL_DATA/MASTER_DATA_CT/R...</td>\n",
       "      <td>_opt_bucketdata_ORIGINAL_DATA_MASTER_DATA_CT_R...</td>\n",
       "    </tr>\n",
       "    <tr>\n",
       "      <th>3</th>\n",
       "      <td>/opt/bucketdata/ORIGINAL_DATA/MASTER_DATA_CT/R...</td>\n",
       "      <td>_opt_bucketdata_ORIGINAL_DATA_MASTER_DATA_CT_R...</td>\n",
       "    </tr>\n",
       "    <tr>\n",
       "      <th>4</th>\n",
       "      <td>/opt/bucketdata/ORIGINAL_DATA/MASTER_DATA_CT/R...</td>\n",
       "      <td>_opt_bucketdata_ORIGINAL_DATA_MASTER_DATA_CT_R...</td>\n",
       "    </tr>\n",
       "  </tbody>\n",
       "</table>\n",
       "</div>"
      ],
      "text/plain": [
       "                                   unreadable_dicoms  \\\n",
       "0  /opt/bucketdata/ORIGINAL_DATA/MASTER_DATA_CT/R...   \n",
       "1  /opt/bucketdata/ORIGINAL_DATA/MASTER_DATA_CT/R...   \n",
       "2  /opt/bucketdata/ORIGINAL_DATA/MASTER_DATA_CT/R...   \n",
       "3  /opt/bucketdata/ORIGINAL_DATA/MASTER_DATA_CT/R...   \n",
       "4  /opt/bucketdata/ORIGINAL_DATA/MASTER_DATA_CT/R...   \n",
       "\n",
       "                                         Dicom_Names  \n",
       "0  _opt_bucketdata_ORIGINAL_DATA_MASTER_DATA_CT_R...  \n",
       "1  _opt_bucketdata_ORIGINAL_DATA_MASTER_DATA_CT_R...  \n",
       "2  _opt_bucketdata_ORIGINAL_DATA_MASTER_DATA_CT_R...  \n",
       "3  _opt_bucketdata_ORIGINAL_DATA_MASTER_DATA_CT_R...  \n",
       "4  _opt_bucketdata_ORIGINAL_DATA_MASTER_DATA_CT_R...  "
      ]
     },
     "execution_count": 90,
     "metadata": {},
     "output_type": "execute_result"
    }
   ],
   "source": [
    "df.head()"
   ]
  },
  {
   "cell_type": "code",
   "execution_count": 91,
   "metadata": {},
   "outputs": [],
   "source": [
    "df.to_csv('./Updated_unreadable_dicoms.csv')"
   ]
  },
  {
   "cell_type": "code",
   "execution_count": 93,
   "metadata": {},
   "outputs": [
    {
     "data": {
      "text/html": [
       "<div>\n",
       "<style scoped>\n",
       "    .dataframe tbody tr th:only-of-type {\n",
       "        vertical-align: middle;\n",
       "    }\n",
       "\n",
       "    .dataframe tbody tr th {\n",
       "        vertical-align: top;\n",
       "    }\n",
       "\n",
       "    .dataframe thead th {\n",
       "        text-align: right;\n",
       "    }\n",
       "</style>\n",
       "<table border=\"1\" class=\"dataframe\">\n",
       "  <thead>\n",
       "    <tr style=\"text-align: right;\">\n",
       "      <th></th>\n",
       "      <th>unreadable_dicoms</th>\n",
       "      <th>Dicom_Names</th>\n",
       "    </tr>\n",
       "  </thead>\n",
       "  <tbody>\n",
       "    <tr>\n",
       "      <th>0</th>\n",
       "      <td>/opt/bucketdata/ORIGINAL_DATA/MASTER_DATA_CT/R...</td>\n",
       "      <td>_opt_bucketdata_ORIGINAL_DATA_MASTER_DATA_CT_R...</td>\n",
       "    </tr>\n",
       "    <tr>\n",
       "      <th>1</th>\n",
       "      <td>/opt/bucketdata/ORIGINAL_DATA/MASTER_DATA_CT/R...</td>\n",
       "      <td>_opt_bucketdata_ORIGINAL_DATA_MASTER_DATA_CT_R...</td>\n",
       "    </tr>\n",
       "    <tr>\n",
       "      <th>2</th>\n",
       "      <td>/opt/bucketdata/ORIGINAL_DATA/MASTER_DATA_CT/R...</td>\n",
       "      <td>_opt_bucketdata_ORIGINAL_DATA_MASTER_DATA_CT_R...</td>\n",
       "    </tr>\n",
       "    <tr>\n",
       "      <th>3</th>\n",
       "      <td>/opt/bucketdata/ORIGINAL_DATA/MASTER_DATA_CT/R...</td>\n",
       "      <td>_opt_bucketdata_ORIGINAL_DATA_MASTER_DATA_CT_R...</td>\n",
       "    </tr>\n",
       "    <tr>\n",
       "      <th>4</th>\n",
       "      <td>/opt/bucketdata/ORIGINAL_DATA/MASTER_DATA_CT/R...</td>\n",
       "      <td>_opt_bucketdata_ORIGINAL_DATA_MASTER_DATA_CT_R...</td>\n",
       "    </tr>\n",
       "    <tr>\n",
       "      <th>...</th>\n",
       "      <td>...</td>\n",
       "      <td>...</td>\n",
       "    </tr>\n",
       "    <tr>\n",
       "      <th>430</th>\n",
       "      <td>/opt/bucketdata/ORIGINAL_DATA/MASTER_DATA_CT/R...</td>\n",
       "      <td>_opt_bucketdata_ORIGINAL_DATA_MASTER_DATA_CT_R...</td>\n",
       "    </tr>\n",
       "    <tr>\n",
       "      <th>431</th>\n",
       "      <td>/opt/bucketdata/ORIGINAL_DATA/MASTER_DATA_CT/R...</td>\n",
       "      <td>_opt_bucketdata_ORIGINAL_DATA_MASTER_DATA_CT_R...</td>\n",
       "    </tr>\n",
       "    <tr>\n",
       "      <th>432</th>\n",
       "      <td>/opt/bucketdata/ORIGINAL_DATA/MASTER_DATA_CT/R...</td>\n",
       "      <td>_opt_bucketdata_ORIGINAL_DATA_MASTER_DATA_CT_R...</td>\n",
       "    </tr>\n",
       "    <tr>\n",
       "      <th>433</th>\n",
       "      <td>/opt/bucketdata/ORIGINAL_DATA/MASTER_DATA_CT/R...</td>\n",
       "      <td>_opt_bucketdata_ORIGINAL_DATA_MASTER_DATA_CT_R...</td>\n",
       "    </tr>\n",
       "    <tr>\n",
       "      <th>434</th>\n",
       "      <td>/opt/bucketdata/ORIGINAL_DATA/MASTER_DATA_CT/R...</td>\n",
       "      <td>_opt_bucketdata_ORIGINAL_DATA_MASTER_DATA_CT_R...</td>\n",
       "    </tr>\n",
       "  </tbody>\n",
       "</table>\n",
       "<p>435 rows × 2 columns</p>\n",
       "</div>"
      ],
      "text/plain": [
       "                                     unreadable_dicoms  \\\n",
       "0    /opt/bucketdata/ORIGINAL_DATA/MASTER_DATA_CT/R...   \n",
       "1    /opt/bucketdata/ORIGINAL_DATA/MASTER_DATA_CT/R...   \n",
       "2    /opt/bucketdata/ORIGINAL_DATA/MASTER_DATA_CT/R...   \n",
       "3    /opt/bucketdata/ORIGINAL_DATA/MASTER_DATA_CT/R...   \n",
       "4    /opt/bucketdata/ORIGINAL_DATA/MASTER_DATA_CT/R...   \n",
       "..                                                 ...   \n",
       "430  /opt/bucketdata/ORIGINAL_DATA/MASTER_DATA_CT/R...   \n",
       "431  /opt/bucketdata/ORIGINAL_DATA/MASTER_DATA_CT/R...   \n",
       "432  /opt/bucketdata/ORIGINAL_DATA/MASTER_DATA_CT/R...   \n",
       "433  /opt/bucketdata/ORIGINAL_DATA/MASTER_DATA_CT/R...   \n",
       "434  /opt/bucketdata/ORIGINAL_DATA/MASTER_DATA_CT/R...   \n",
       "\n",
       "                                           Dicom_Names  \n",
       "0    _opt_bucketdata_ORIGINAL_DATA_MASTER_DATA_CT_R...  \n",
       "1    _opt_bucketdata_ORIGINAL_DATA_MASTER_DATA_CT_R...  \n",
       "2    _opt_bucketdata_ORIGINAL_DATA_MASTER_DATA_CT_R...  \n",
       "3    _opt_bucketdata_ORIGINAL_DATA_MASTER_DATA_CT_R...  \n",
       "4    _opt_bucketdata_ORIGINAL_DATA_MASTER_DATA_CT_R...  \n",
       "..                                                 ...  \n",
       "430  _opt_bucketdata_ORIGINAL_DATA_MASTER_DATA_CT_R...  \n",
       "431  _opt_bucketdata_ORIGINAL_DATA_MASTER_DATA_CT_R...  \n",
       "432  _opt_bucketdata_ORIGINAL_DATA_MASTER_DATA_CT_R...  \n",
       "433  _opt_bucketdata_ORIGINAL_DATA_MASTER_DATA_CT_R...  \n",
       "434  _opt_bucketdata_ORIGINAL_DATA_MASTER_DATA_CT_R...  \n",
       "\n",
       "[435 rows x 2 columns]"
      ]
     },
     "execution_count": 93,
     "metadata": {},
     "output_type": "execute_result"
    }
   ],
   "source": [
    "df"
   ]
  },
  {
   "cell_type": "code",
   "execution_count": 105,
   "metadata": {},
   "outputs": [],
   "source": [
    "dcm=pydicom.read_file(df['unreadable_dicoms'][20])"
   ]
  },
  {
   "cell_type": "code",
   "execution_count": 106,
   "metadata": {},
   "outputs": [
    {
     "data": {
      "text/plain": [
       "Dataset.file_meta -------------------------------\n",
       "(0002, 0000) File Meta Information Group Length  UL: 156\n",
       "(0002, 0001) File Meta Information Version       OB: b'\\x00\\x01'\n",
       "(0002, 0002) Media Storage SOP Class UID         UI: 435\n",
       "(0002, 0003) Media Storage SOP Instance UID      UI: 567\n",
       "(0002, 0010) Transfer Syntax UID                 UI: JPEG 2000 Image Compression\n",
       "(0002, 0012) Implementation Class UID            UI: 1.2.276.0.7230010.3.0.3.6.1\n",
       "(0002, 0013) Implementation Version Name         SH: 'OSIRIX_361'\n",
       "(0002, 0017) Sending Application Entity Title    AE: ''\n",
       "(0002, 0018) Receiving Application Entity Title  AE: ''\n",
       "-------------------------------------------------\n",
       "(0008, 0005) Specific Character Set              CS: 'ISO_IR 100'\n",
       "(0008, 0008) Image Type                          CS: ['DERIVED', 'PRIMARY']\n",
       "(0008, 0016) SOP Class UID                       UI: 435\n",
       "(0008, 0018) SOP Instance UID                    UI: 567\n",
       "(0008, 0030) Study Time                          TM: '220331.453'\n",
       "(0008, 0050) Accession Number                    SH: '11'\n",
       "(0008, 0060) Modality                            CS: 'CR'\n",
       "(0008, 0070) Manufacturer                        LO: 'CARESTREAM'\n",
       "(0008, 0080) Institution Name                    LO: 'fds'\n",
       "(0008, 0081) Institution Address                 ST: 'RB'\n",
       "(0008, 0302) Private Creator Reference           LO: 'abc'\n",
       "(0008, 1010) Station Name                        SH: 'g'\n",
       "(0008, 1030) Study Description                   LO: 'CHEST X RAY'\n",
       "(0008, 1032)  Procedure Code Sequence  1 item(s) ---- \n",
       "   (0008, 0100) Code Value                          SH: 'CHTXRAY'\n",
       "   (0008, 0104) Code Meaning                        LO: 'CHEST X RAY'\n",
       "   ---------\n",
       "(0008, 103e) Series Description                  LO: 'PA'\n",
       "(0008, 1070) Operators' Name                     PN: 'dsf'\n",
       "(0008, 1090) Manufacturer's Model Name           LO: 'CLASSIC CR'\n",
       "(0008, 1111)  Referenced Performed Procedure Step Sequence  1 item(s) ---- \n",
       "   (0008, 1150) Referenced SOP Class UID            UI: Modality Performed Procedure Step SOP Class\n",
       "   ---------\n",
       "(0008, 1140)  Referenced Image Sequence  1 item(s) ---- \n",
       "   (0008, 1150) Referenced SOP Class UID            UI: Computed Radiography Image Storage\n",
       "   (0008, 1155) Referenced SOP Instance UID         UI: 1.2.840.113564.1281714.2020072721591562580.1003000225002\n",
       "   ---------\n",
       "(0008, 2218)  Anatomic Region Sequence  1 item(s) ---- \n",
       "   (0008, 0100) Code Value                          SH: 'T-D3000'\n",
       "   (0008, 0102) Coding Scheme Designator            SH: 'SNM3'\n",
       "   (0008, 0104) Code Meaning                        LO: 'CHEST'\n",
       "   (0008, 0105) Mapping Resource                    CS: 'DCMR'\n",
       "   (0008, 0106) Context Group Version               DT: '20020904'\n",
       "   (0008, 010f) Context Identifier                  CS: '4031'\n",
       "   ---------\n",
       "(0010, 0020) Patient ID                          LO: '10350757'\n",
       "(0010, 0040) Patient's Sex                       CS: 'M'\n",
       "(0010, 1010) Patient's Age                       AS: '072Y'\n",
       "(0010, 4000) Patient Comments                    LT: 'NTU-210'\n",
       "(0018, 0010) Contrast/Bolus Agent                LO: ''\n",
       "(0018, 0015) Body Part Examined                  CS: 'CHEST'\n",
       "(0018, 1000) Device Serial Number                LO: '11'\n",
       "(0018, 1004) Plate ID                            LO: '9104425895'\n",
       "(0018, 1020) Software Versions                   LO: '5.6.10.00'\n",
       "(0018, 1164) Imager Pixel Spacing                DS: [0.168, 0.168]\n",
       "(0018, 1403) Cassette Size                       CS: '35CMX43CM'\n",
       "(0018, 1405) Relative X-Ray Exposure             IS: \"1213\"\n",
       "(0018, 1411) Exposure Index                      DS: \"149.39\"\n",
       "(0018, 1412) Target Exposure Index               DS: \"382.53\"\n",
       "(0018, 1413) Deviation Index                     DS: \"-4.08\"\n",
       "(0018, 5101) View Position                       CS: 'PA'\n",
       "(0020, 000d) Study Instance UID                  UI: 1.2.826.0.1.3680043.8.1678.101.10637314649750396078.295353\n",
       "(0020, 000e) Series Instance UID                 UI: 1.2.840.113564.1281714.2020072722033140670\n",
       "(0020, 0010) Study ID                            SH: ''\n",
       "(0020, 0011) Series Number                       IS: \"617\"\n",
       "(0020, 0012) Acquisition Number                  IS: \"2\"\n",
       "(0020, 0013) Instance Number                     IS: \"1\"\n",
       "(0020, 0020) Patient Orientation                 CS: ['R', 'F']\n",
       "(0020, 1002) Images in Acquisition               IS: \"1\"\n",
       "(0028, 0002) Samples per Pixel                   US: 1\n",
       "(0028, 0004) Photometric Interpretation          CS: 'MONOCHROME2'\n",
       "(0028, 0006) Planar Configuration                US: 0\n",
       "(0028, 0008) Number of Frames                    IS: \"1\"\n",
       "(0028, 0010) Rows                                US: 2048\n",
       "(0028, 0011) Columns                             US: 2500\n",
       "(0028, 0030) Pixel Spacing                       DS: [0.168, 0.168]\n",
       "(0028, 0034) Pixel Aspect Ratio                  IS: [1, 1]\n",
       "(0028, 0100) Bits Allocated                      US: 16\n",
       "(0028, 0101) Bits Stored                         US: 12\n",
       "(0028, 0102) High Bit                            US: 11\n",
       "(0028, 0103) Pixel Representation                US: 0\n",
       "(0028, 0106) Smallest Image Pixel Value          US: 0\n",
       "(0028, 0107) Largest Image Pixel Value           US: 4095\n",
       "(0028, 0301) Burned In Annotation                CS: 'NO'\n",
       "(0028, 1050) Window Center                       DS: \"2048.0\"\n",
       "(0028, 1051) Window Width                        DS: \"4096.0\"\n",
       "(0028, 1052) Rescale Intercept                   DS: \"0.0\"\n",
       "(0028, 1053) Rescale Slope                       DS: \"1.0\"\n",
       "(0028, 1054) Rescale Type                        LO: 'US'\n",
       "(0028, 2110) Lossy Image Compression             CS: '01'\n",
       "(0028, 2112) Lossy Image Compression Ratio       DS: \"26.671\"\n",
       "(0028, 2114) Lossy Image Compression Method      CS: 'ISO_15444_1'\n",
       "(0040, 0244) Performed Procedure Step Start Date DA: '20200727'\n",
       "(0040, 0245) Performed Procedure Step Start Time TM: '220331.453'\n",
       "(0040, 0253) Performed Procedure Step ID         SH: 'CHTXRAY'\n",
       "(0040, 0254) Performed Procedure Step Descriptio LO: 'CHEST X RAY'\n",
       "(0040, 0275)  Request Attributes Sequence  1 item(s) ---- \n",
       "   (0040, 0007) Scheduled Procedure Step Descriptio LO: 'CHEST X RAY'\n",
       "   (0040, 0009) Scheduled Procedure Step ID         SH: 'CHTXRAY'\n",
       "   (0040, 1001) Requested Procedure ID              SH: 'CHTXRAY'\n",
       "   ---------\n",
       "(0400, 0561)  Original Attributes Sequence  1 item(s) ---- \n",
       "   (0400, 0550)  Modified Attributes Sequence  1 item(s) ---- \n",
       "      (0008, 0018) SOP Instance UID                    UI: 1.2.840.010882.1123456.91755021569.6491835613168900\n",
       "      (0028, 0004) Photometric Interpretation          CS: 'MONOCHROME2'\n",
       "      (0028, 2110) Lossy Image Compression             CS: '00'\n",
       "      (0028, 2112) Lossy Image Compression Ratio       DS: None\n",
       "      (0028, 2114) Lossy Image Compression Method      CS: ''\n",
       "      ---------\n",
       "   (0400, 0562) Attribute Modification DateTime     DT: '20200727'\n",
       "   (0400, 0563) Modifying System                    LO: 'Medsynaptic'\n",
       "   (0400, 0564) Source of Previous Values           LO: 'RHC PUNE'\n",
       "   (0400, 0565) Reason for the Attribute Modificati CS: 'COERCE'\n",
       "   ---------\n",
       "(0400, 0563) Modifying System                    LO: 'self'\n",
       "(0400, 0564) Source of Previous Values           LO: 'test'\n",
       "(2050, 0020) Presentation LUT Shape              CS: 'IDENTITY'\n",
       "(7fe0, 0010) Pixel Data                          OB: Array of 383954 elements"
      ]
     },
     "execution_count": 106,
     "metadata": {},
     "output_type": "execute_result"
    }
   ],
   "source": [
    "dcm"
   ]
  },
  {
   "cell_type": "code",
   "execution_count": null,
   "metadata": {},
   "outputs": [],
   "source": []
  }
 ],
 "metadata": {
  "kernelspec": {
   "display_name": "Python 3",
   "language": "python",
   "name": "python3"
  },
  "language_info": {
   "codemirror_mode": {
    "name": "ipython",
    "version": 3
   },
   "file_extension": ".py",
   "mimetype": "text/x-python",
   "name": "python",
   "nbconvert_exporter": "python",
   "pygments_lexer": "ipython3",
   "version": "3.8.8"
  }
 },
 "nbformat": 4,
 "nbformat_minor": 4
}
